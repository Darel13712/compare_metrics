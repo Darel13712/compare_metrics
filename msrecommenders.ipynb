{
 "cells": [
  {
   "cell_type": "code",
   "execution_count": 1,
   "metadata": {},
   "outputs": [
    {
     "data": {
      "text/plain": [
       "'2021.2.9'"
      ]
     },
     "execution_count": 1,
     "metadata": {},
     "output_type": "execute_result"
    }
   ],
   "source": [
    "import reco_utils\n",
    "reco_utils.__version__"
   ]
  },
  {
   "cell_type": "code",
   "execution_count": 2,
   "metadata": {},
   "outputs": [
    {
     "data": {
      "text/plain": [
       "0.0    51516\n",
       "1.0     3144\n",
       "Name: relevance, dtype: int64"
      ]
     },
     "execution_count": 2,
     "metadata": {},
     "output_type": "execute_result"
    }
   ],
   "source": [
    "import pandas as pd\n",
    "import numpy as np\n",
    "\n",
    "df_pred = pd.read_csv('./pred.csv')\n",
    "df_test = pd.read_csv('./test.csv')\n",
    "\n",
    "df_pred_new = pd.merge(\n",
    "    df_pred, \n",
    "    df_test.loc[:, ['user_id', 'item_id', 'relevance']], on=['user_id', 'item_id'], how='left'\n",
    ")\n",
    "\n",
    "df_pred_new = df_pred_new[df_pred_new.user_id.isin(df_test.user_id)]\n",
    "\n",
    "df_pred_new.fillna(0, inplace=True)\n",
    "\n",
    "df_pred_new.loc[df_pred_new.relevance != 0, 'relevance'] = 1\n",
    "\n",
    "df_pred_new.relevance.value_counts()"
   ]
  },
  {
   "cell_type": "code",
   "execution_count": 3,
   "metadata": {},
   "outputs": [],
   "source": [
    "from reco_utils.evaluation.python_evaluation import (\n",
    "    check_column_dtypes,\n",
    "    merge_rating_true_pred,\n",
    "    merge_ranking_true_pred,\n",
    "    rmse,\n",
    "    mae,\n",
    "    rsquared,\n",
    "    exp_var,\n",
    "    precision_at_k,\n",
    "    recall_at_k,\n",
    "    ndcg_at_k,\n",
    "    map_at_k,\n",
    "    auc,\n",
    "    logloss,\n",
    ")"
   ]
  },
  {
   "cell_type": "code",
   "execution_count": 4,
   "metadata": {},
   "outputs": [
    {
     "data": {
      "text/html": [
       "<div>\n",
       "<style scoped>\n",
       "    .dataframe tbody tr th:only-of-type {\n",
       "        vertical-align: middle;\n",
       "    }\n",
       "\n",
       "    .dataframe tbody tr th {\n",
       "        vertical-align: top;\n",
       "    }\n",
       "\n",
       "    .dataframe thead th {\n",
       "        text-align: right;\n",
       "    }\n",
       "</style>\n",
       "<table border=\"1\" class=\"dataframe\">\n",
       "  <thead>\n",
       "    <tr style=\"text-align: right;\">\n",
       "      <th></th>\n",
       "      <th>user_id</th>\n",
       "      <th>item_id</th>\n",
       "      <th>score</th>\n",
       "      <th>relevance</th>\n",
       "    </tr>\n",
       "  </thead>\n",
       "  <tbody>\n",
       "    <tr>\n",
       "      <th>40</th>\n",
       "      <td>3</td>\n",
       "      <td>590</td>\n",
       "      <td>0.280305</td>\n",
       "      <td>0.0</td>\n",
       "    </tr>\n",
       "    <tr>\n",
       "      <th>41</th>\n",
       "      <td>3</td>\n",
       "      <td>1136</td>\n",
       "      <td>0.263707</td>\n",
       "      <td>0.0</td>\n",
       "    </tr>\n",
       "    <tr>\n",
       "      <th>42</th>\n",
       "      <td>3</td>\n",
       "      <td>920</td>\n",
       "      <td>0.231234</td>\n",
       "      <td>0.0</td>\n",
       "    </tr>\n",
       "    <tr>\n",
       "      <th>43</th>\n",
       "      <td>3</td>\n",
       "      <td>1246</td>\n",
       "      <td>0.188023</td>\n",
       "      <td>0.0</td>\n",
       "    </tr>\n",
       "    <tr>\n",
       "      <th>44</th>\n",
       "      <td>3</td>\n",
       "      <td>318</td>\n",
       "      <td>0.187111</td>\n",
       "      <td>0.0</td>\n",
       "    </tr>\n",
       "    <tr>\n",
       "      <th>...</th>\n",
       "      <td>...</td>\n",
       "      <td>...</td>\n",
       "      <td>...</td>\n",
       "      <td>...</td>\n",
       "    </tr>\n",
       "    <tr>\n",
       "      <th>1179555</th>\n",
       "      <td>71534</td>\n",
       "      <td>1304</td>\n",
       "      <td>0.088851</td>\n",
       "      <td>0.0</td>\n",
       "    </tr>\n",
       "    <tr>\n",
       "      <th>1179556</th>\n",
       "      <td>71534</td>\n",
       "      <td>778</td>\n",
       "      <td>0.085875</td>\n",
       "      <td>0.0</td>\n",
       "    </tr>\n",
       "    <tr>\n",
       "      <th>1179557</th>\n",
       "      <td>71534</td>\n",
       "      <td>1307</td>\n",
       "      <td>0.082908</td>\n",
       "      <td>0.0</td>\n",
       "    </tr>\n",
       "    <tr>\n",
       "      <th>1179558</th>\n",
       "      <td>71534</td>\n",
       "      <td>1258</td>\n",
       "      <td>0.082717</td>\n",
       "      <td>0.0</td>\n",
       "    </tr>\n",
       "    <tr>\n",
       "      <th>1179559</th>\n",
       "      <td>71534</td>\n",
       "      <td>1222</td>\n",
       "      <td>0.077238</td>\n",
       "      <td>0.0</td>\n",
       "    </tr>\n",
       "  </tbody>\n",
       "</table>\n",
       "<p>54660 rows × 4 columns</p>\n",
       "</div>"
      ],
      "text/plain": [
       "         user_id  item_id     score  relevance\n",
       "40             3      590  0.280305        0.0\n",
       "41             3     1136  0.263707        0.0\n",
       "42             3      920  0.231234        0.0\n",
       "43             3     1246  0.188023        0.0\n",
       "44             3      318  0.187111        0.0\n",
       "...          ...      ...       ...        ...\n",
       "1179555    71534     1304  0.088851        0.0\n",
       "1179556    71534      778  0.085875        0.0\n",
       "1179557    71534     1307  0.082908        0.0\n",
       "1179558    71534     1258  0.082717        0.0\n",
       "1179559    71534     1222  0.077238        0.0\n",
       "\n",
       "[54660 rows x 4 columns]"
      ]
     },
     "execution_count": 4,
     "metadata": {},
     "output_type": "execute_result"
    }
   ],
   "source": [
    "df_pred_new"
   ]
  },
  {
   "cell_type": "code",
   "execution_count": null,
   "metadata": {},
   "outputs": [],
   "source": []
  },
  {
   "cell_type": "code",
   "execution_count": 5,
   "metadata": {},
   "outputs": [
    {
     "data": {
      "text/plain": [
       "0.0575192096597146"
      ]
     },
     "execution_count": 5,
     "metadata": {},
     "output_type": "execute_result"
    }
   ],
   "source": [
    "precision_at_k(\n",
    "    df_test,\n",
    "    df_pred_new,\n",
    "    col_user='user_id',\n",
    "    col_item='item_id',\n",
    "    col_rating='relevance',\n",
    "    col_prediction='score',\n",
    "    k=20,\n",
    ")"
   ]
  },
  {
   "cell_type": "code",
   "execution_count": 6,
   "metadata": {},
   "outputs": [
    {
     "data": {
      "text/plain": [
       "0.09632131280310642"
      ]
     },
     "execution_count": 6,
     "metadata": {},
     "output_type": "execute_result"
    }
   ],
   "source": [
    "recall_at_k(\n",
    "    df_test,\n",
    "    df_pred_new,\n",
    "    col_user='user_id',\n",
    "    col_item='item_id',\n",
    "    col_rating='relevance',\n",
    "    col_prediction='score',\n",
    "    k=20,\n",
    ")"
   ]
  },
  {
   "cell_type": "code",
   "execution_count": 7,
   "metadata": {},
   "outputs": [
    {
     "data": {
      "text/plain": [
       "0.031690245847362415"
      ]
     },
     "execution_count": 7,
     "metadata": {},
     "output_type": "execute_result"
    }
   ],
   "source": [
    "map_at_k(\n",
    "    df_test,\n",
    "    df_pred_new,\n",
    "    col_user='user_id',\n",
    "    col_item='item_id',\n",
    "    col_rating='relevance',\n",
    "    col_prediction='score',\n",
    "    k=20,\n",
    ")"
   ]
  },
  {
   "cell_type": "code",
   "execution_count": 8,
   "metadata": {},
   "outputs": [
    {
     "data": {
      "text/plain": [
       "0.09326437896736813"
      ]
     },
     "execution_count": 8,
     "metadata": {},
     "output_type": "execute_result"
    }
   ],
   "source": [
    "ndcg_at_k(\n",
    "    df_test,\n",
    "    df_pred_new,\n",
    "    col_user='user_id',\n",
    "    col_item='item_id',\n",
    "    col_rating='relevance',\n",
    "    col_prediction='score',\n",
    "    k=20,\n",
    ")"
   ]
  },
  {
   "cell_type": "code",
   "execution_count": 9,
   "metadata": {},
   "outputs": [],
   "source": [
    "df_pred_new['relevance'] = df_pred_new['relevance'].astype(int)"
   ]
  },
  {
   "cell_type": "code",
   "execution_count": 10,
   "metadata": {},
   "outputs": [],
   "source": [
    "df_test.relevance = df_test.relevance.astype(int)"
   ]
  },
  {
   "cell_type": "code",
   "execution_count": 11,
   "metadata": {},
   "outputs": [
    {
     "data": {
      "text/plain": [
       "0.5305776379264664"
      ]
     },
     "execution_count": 11,
     "metadata": {},
     "output_type": "execute_result"
    }
   ],
   "source": [
    "auc(\n",
    "    df_pred_new,\n",
    "    df_pred_new,\n",
    "    col_user='user_id',\n",
    "    col_item='item_id',\n",
    "    col_rating='relevance',\n",
    "    col_prediction='score',\n",
    ")"
   ]
  },
  {
   "cell_type": "code",
   "execution_count": null,
   "metadata": {},
   "outputs": [],
   "source": []
  }
 ],
 "metadata": {
  "kernelspec": {
   "display_name": "dev-rinchin",
   "language": "python",
   "name": "dev-rinchin"
  },
  "language_info": {
   "codemirror_mode": {
    "name": "ipython",
    "version": 3
   },
   "file_extension": ".py",
   "mimetype": "text/x-python",
   "name": "python",
   "nbconvert_exporter": "python",
   "pygments_lexer": "ipython3",
   "version": "3.6.9"
  }
 },
 "nbformat": 4,
 "nbformat_minor": 2
}
