{
 "cells": [
  {
   "cell_type": "code",
   "execution_count": 10,
   "metadata": {},
   "outputs": [],
   "source": [
    "import pandas as pd\n",
    "import numpy as np\n",
    "import reco_utils\n",
    "from reco_utils.evaluation.python_evaluation import (\n",
    "    precision_at_k,\n",
    "    recall_at_k,\n",
    "    ndcg_at_k,\n",
    "    map_at_k,\n",
    "    auc \n",
    ")"
   ]
  },
  {
   "cell_type": "markdown",
   "metadata": {},
   "source": [
    "### Version"
   ]
  },
  {
   "cell_type": "code",
   "execution_count": 8,
   "metadata": {},
   "outputs": [
    {
     "data": {
      "text/plain": [
       "'2021.2.9'"
      ]
     },
     "execution_count": 8,
     "metadata": {},
     "output_type": "execute_result"
    }
   ],
   "source": [
    "reco_utils.__version__"
   ]
  },
  {
   "cell_type": "markdown",
   "metadata": {},
   "source": [
    "### Data preparation"
   ]
  },
  {
   "cell_type": "code",
   "execution_count": 9,
   "metadata": {},
   "outputs": [
    {
     "data": {
      "text/plain": [
       "0.0    21307932\n",
       "4.5       25887\n",
       "5.0       12924\n",
       "Name: relevance, dtype: int64"
      ]
     },
     "execution_count": 9,
     "metadata": {},
     "output_type": "execute_result"
    }
   ],
   "source": [
    "df_pred = pd.read_csv('./preds_full.csv')\n",
    "df_test = pd.read_csv('./test.csv')\n",
    "\n",
    "df_pred_new = pd.merge(\n",
    "    df_pred, \n",
    "    df_test.loc[:, ['user_id', 'item_id', 'relevance']], on=['user_id', 'item_id'], how='left'\n",
    ")\n",
    "\n",
    "df_pred_new = df_pred_new[df_pred_new.user_id.isin(df_test.user_id)]\n",
    "\n",
    "df_pred_new.fillna(0, inplace=True)\n",
    "\n",
    "df_pred_new.relevance.value_counts()"
   ]
  },
  {
   "cell_type": "markdown",
   "metadata": {},
   "source": [
    "### Evaluation metrics"
   ]
  },
  {
   "cell_type": "code",
   "execution_count": 11,
   "metadata": {},
   "outputs": [],
   "source": [
    "results = pd.DataFrame()"
   ]
  },
  {
   "cell_type": "code",
   "execution_count": 12,
   "metadata": {},
   "outputs": [],
   "source": [
    "results.at[\"Precision@20\",\"value\"] = precision_at_k(\n",
    "    df_test,\n",
    "    df_pred_new,\n",
    "    col_user='user_id',\n",
    "    col_item='item_id',\n",
    "    col_rating='relevance',\n",
    "    col_prediction='score',\n",
    "    k=20,\n",
    ")"
   ]
  },
  {
   "cell_type": "code",
   "execution_count": 13,
   "metadata": {},
   "outputs": [],
   "source": [
    "results.at[\"Recall@20\",\"value\"] = recall_at_k(\n",
    "    df_test,\n",
    "    df_pred_new,\n",
    "    col_user='user_id',\n",
    "    col_item='item_id',\n",
    "    col_rating='relevance',\n",
    "    col_prediction='score',\n",
    "    k=20,\n",
    ")"
   ]
  },
  {
   "cell_type": "code",
   "execution_count": 14,
   "metadata": {},
   "outputs": [],
   "source": [
    "results.at[\"MAP@20\",\"value\"] = map_at_k(\n",
    "    df_test,\n",
    "    df_pred_new,\n",
    "    col_user='user_id',\n",
    "    col_item='item_id',\n",
    "    col_rating='relevance',\n",
    "    col_prediction='score',\n",
    "    k=20,\n",
    ")"
   ]
  },
  {
   "cell_type": "code",
   "execution_count": 15,
   "metadata": {},
   "outputs": [],
   "source": [
    "results.at[\"NDCG@20\",\"value\"] = ndcg_at_k(\n",
    "    df_test,\n",
    "    df_pred_new,\n",
    "    col_user='user_id',\n",
    "    col_item='item_id',\n",
    "    col_rating='relevance',\n",
    "    col_prediction='score',\n",
    "    k=20,\n",
    ")"
   ]
  },
  {
   "cell_type": "code",
   "execution_count": 16,
   "metadata": {},
   "outputs": [],
   "source": [
    "df_pred_new.relevance = (df_pred_new.relevance > 0).astype(int)"
   ]
  },
  {
   "cell_type": "code",
   "execution_count": 19,
   "metadata": {},
   "outputs": [],
   "source": [
    "results.at[\"AUC\",\"value\"] = auc(\n",
    "    df_pred_new,\n",
    "    df_pred_new,\n",
    "    col_user='user_id',\n",
    "    col_item='item_id',\n",
    "    col_rating='relevance',\n",
    "    col_prediction='score'\n",
    ")"
   ]
  },
  {
   "cell_type": "markdown",
   "metadata": {},
   "source": [
    "### Results"
   ]
  },
  {
   "cell_type": "code",
   "execution_count": 20,
   "metadata": {},
   "outputs": [
    {
     "data": {
      "text/html": [
       "<div>\n",
       "<style scoped>\n",
       "    .dataframe tbody tr th:only-of-type {\n",
       "        vertical-align: middle;\n",
       "    }\n",
       "\n",
       "    .dataframe tbody tr th {\n",
       "        vertical-align: top;\n",
       "    }\n",
       "\n",
       "    .dataframe thead th {\n",
       "        text-align: right;\n",
       "    }\n",
       "</style>\n",
       "<table border=\"1\" class=\"dataframe\">\n",
       "  <thead>\n",
       "    <tr style=\"text-align: right;\">\n",
       "      <th></th>\n",
       "      <th>value</th>\n",
       "    </tr>\n",
       "  </thead>\n",
       "  <tbody>\n",
       "    <tr>\n",
       "      <th>Precision@20</th>\n",
       "      <td>0.057519</td>\n",
       "    </tr>\n",
       "    <tr>\n",
       "      <th>Recall@20</th>\n",
       "      <td>0.096321</td>\n",
       "    </tr>\n",
       "    <tr>\n",
       "      <th>MAP@20</th>\n",
       "      <td>0.031690</td>\n",
       "    </tr>\n",
       "    <tr>\n",
       "      <th>NDCG@20</th>\n",
       "      <td>0.093264</td>\n",
       "    </tr>\n",
       "    <tr>\n",
       "      <th>AUC</th>\n",
       "      <td>0.686625</td>\n",
       "    </tr>\n",
       "  </tbody>\n",
       "</table>\n",
       "</div>"
      ],
      "text/plain": [
       "                 value\n",
       "Precision@20  0.057519\n",
       "Recall@20     0.096321\n",
       "MAP@20        0.031690\n",
       "NDCG@20       0.093264\n",
       "AUC           0.686625"
      ]
     },
     "execution_count": 20,
     "metadata": {},
     "output_type": "execute_result"
    }
   ],
   "source": [
    "results"
   ]
  }
 ],
 "metadata": {
  "kernelspec": {
   "display_name": "Python 3 (ipykernel)",
   "language": "python",
   "name": "python3"
  },
  "language_info": {
   "codemirror_mode": {
    "name": "ipython",
    "version": 3
   },
   "file_extension": ".py",
   "mimetype": "text/x-python",
   "name": "python",
   "nbconvert_exporter": "python",
   "pygments_lexer": "ipython3",
   "version": "3.8.5"
  }
 },
 "nbformat": 4,
 "nbformat_minor": 4
}
