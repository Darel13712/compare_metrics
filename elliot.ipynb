{
 "cells": [
  {
   "cell_type": "code",
   "execution_count": 8,
   "metadata": {},
   "outputs": [],
   "source": [
    "import pandas as pd\n",
    "import numpy as np\n",
    "import elliot\n",
    "from elliot.evaluation.metrics import \n",
    "from elliot.evaluation.relevance import Relevance\n",
    "from types import SimpleNamespace"
   ]
  },
  {
   "cell_type": "markdown",
   "metadata": {},
   "source": [
    "### Version"
   ]
  },
  {
   "cell_type": "code",
   "execution_count": 9,
   "metadata": {},
   "outputs": [
    {
     "data": {
      "text/plain": [
       "'0.3.1'"
      ]
     },
     "execution_count": 9,
     "metadata": {},
     "output_type": "execute_result"
    }
   ],
   "source": [
    "elliot.__version__"
   ]
  },
  {
   "cell_type": "markdown",
   "metadata": {},
   "source": [
    "### Data preparation"
   ]
  },
  {
   "cell_type": "code",
   "execution_count": 10,
   "metadata": {},
   "outputs": [],
   "source": [
    "df_pred = pd.read_csv('./preds_full.csv')\n",
    "df_test = pd.read_csv('./test.csv')\n",
    "df_train = pd.read_csv('./train.csv')"
   ]
  },
  {
   "cell_type": "code",
   "execution_count": 11,
   "metadata": {},
   "outputs": [],
   "source": [
    "NUM_ITEMS = len(df_train.item_id.unique())"
   ]
  },
  {
   "cell_type": "code",
   "execution_count": 12,
   "metadata": {},
   "outputs": [],
   "source": [
    "train_dict = df_train.groupby('user_id').item_id.apply(list).to_dict()"
   ]
  },
  {
   "cell_type": "code",
   "execution_count": 14,
   "metadata": {},
   "outputs": [],
   "source": [
    "df_test = df_test[df_test.user_id.isin(df_pred.user_id)]"
   ]
  },
  {
   "cell_type": "code",
   "execution_count": 13,
   "metadata": {},
   "outputs": [],
   "source": [
    "recommendations = {}\n",
    "\n",
    "for user, item_id, score in zip(df_pred.user_id, df_pred.item_id, df_pred.score):\n",
    "\n",
    "    if user in recommendations:\n",
    "        recommendations[user] += [(item_id, score)]\n",
    "    else:\n",
    "        recommendations[user] = [(item_id, score)] "
   ]
  },
  {
   "cell_type": "code",
   "execution_count": 15,
   "metadata": {},
   "outputs": [],
   "source": [
    "gt_recommendations = {}\n",
    "\n",
    "for user, item_id, score in zip(df_test.user_id, df_test.item_id, df_test.relevance):\n",
    "\n",
    "    if user in gt_recommendations:\n",
    "        gt_recommendations[user][item_id] = score\n",
    "    else:\n",
    "        gt_recommendations[user] = {item_id: score}"
   ]
  },
  {
   "cell_type": "markdown",
   "metadata": {},
   "source": [
    "### Evaluation metrics"
   ]
  },
  {
   "cell_type": "code",
   "execution_count": 16,
   "metadata": {},
   "outputs": [],
   "source": [
    "results = pd.DataFrame()"
   ]
  },
  {
   "cell_type": "code",
   "execution_count": 17,
   "metadata": {},
   "outputs": [],
   "source": [
    "results.at[\"Precision@20\",\"value\"] = Precision(recommendations, None, None, \n",
    "          eval_objects = SimpleNamespace(\n",
    "              relevance=Relevance(gt_recommendations, 0.5),\n",
    "              cutoff = 20\n",
    "          )\n",
    ").eval()"
   ]
  },
  {
   "cell_type": "code",
   "execution_count": 18,
   "metadata": {},
   "outputs": [],
   "source": [
    "results.at[\"Recall@20\",\"value\"] = Recall(recommendations, None, None, \n",
    "          eval_objects = SimpleNamespace(\n",
    "              relevance=Relevance(gt_recommendations, 0.5),\n",
    "              cutoff = 20\n",
    "          )\n",
    ").eval()"
   ]
  },
  {
   "cell_type": "code",
   "execution_count": 19,
   "metadata": {},
   "outputs": [],
   "source": [
    "results.at[\"MAP@20\",\"value\"] = MAP(recommendations, None, None, \n",
    "          eval_objects = SimpleNamespace(\n",
    "              relevance=Relevance(gt_recommendations, 0.5),\n",
    "              cutoff = 20\n",
    "          )\n",
    ").eval()"
   ]
  },
  {
   "cell_type": "code",
   "execution_count": 20,
   "metadata": {},
   "outputs": [],
   "source": [
    "results.at[\"MRR@20\",\"value\"] = MRR(recommendations, None, None, \n",
    "          eval_objects = SimpleNamespace(\n",
    "              relevance=Relevance(gt_recommendations, 0.5),\n",
    "              cutoff = 20\n",
    "          )\n",
    ").eval()"
   ]
  },
  {
   "cell_type": "code",
   "execution_count": 21,
   "metadata": {},
   "outputs": [],
   "source": [
    "results.at[\"HitRate@20\",\"value\"] = HR(recommendations, None, None, \n",
    "          eval_objects = SimpleNamespace(\n",
    "              relevance=Relevance(gt_recommendations, 0.5),\n",
    "              cutoff = 20\n",
    "          )\n",
    ").eval()"
   ]
  },
  {
   "cell_type": "code",
   "execution_count": 26,
   "metadata": {},
   "outputs": [],
   "source": [
    "results.at[\"NDCG20\",\"value\"] = nDCG(recommendations, None, None, \n",
    "          eval_objects = SimpleNamespace(\n",
    "              relevance=Relevance(gt_recommendations, 1),\n",
    "              cutoff = 20\n",
    "          )\n",
    ").eval()"
   ]
  },
  {
   "cell_type": "code",
   "execution_count": 23,
   "metadata": {},
   "outputs": [],
   "source": [
    "results.at[\"AUC\",\"value\"] = AUC(recommendations, None, None, \n",
    "          eval_objects = SimpleNamespace(\n",
    "              relevance=Relevance(gt_recommendations, 0.5),\n",
    "              cutoff=None,\n",
    "              num_items=NUM_ITEMS,\n",
    "              data=SimpleNamespace(train_dict=train_dict)\n",
    "          )\n",
    ").eval()"
   ]
  },
  {
   "cell_type": "code",
   "execution_count": 24,
   "metadata": {},
   "outputs": [],
   "source": [
    "results.at[\"GAUC\",\"value\"] = GAUC(recommendations, None, None, \n",
    "          eval_objects = SimpleNamespace(\n",
    "              relevance=Relevance(gt_recommendations, 0.5),\n",
    "              cutoff=20,\n",
    "              num_items=NUM_ITEMS,\n",
    "              data=SimpleNamespace(train_dict=train_dict)\n",
    "          )\n",
    ").eval()"
   ]
  },
  {
   "cell_type": "code",
   "execution_count": 25,
   "metadata": {},
   "outputs": [],
   "source": [
    "results.at[\"LAUC@20\",\"value\"] = LAUC(\n",
    "    recommendations, \n",
    "    SimpleNamespace(config_test=False), \n",
    "    None, \n",
    "    eval_objects = SimpleNamespace(\n",
    "      relevance=Relevance(gt_recommendations, 0.5),\n",
    "      cutoff = 20,\n",
    "      num_items=NUM_ITEMS,\n",
    "      data=SimpleNamespace(train_dict=train_dict)\n",
    "    )\n",
    ").eval()"
   ]
  },
  {
   "cell_type": "markdown",
   "metadata": {},
   "source": [
    "### Results"
   ]
  },
  {
   "cell_type": "code",
   "execution_count": 27,
   "metadata": {},
   "outputs": [
    {
     "data": {
      "text/html": [
       "<div>\n",
       "<style scoped>\n",
       "    .dataframe tbody tr th:only-of-type {\n",
       "        vertical-align: middle;\n",
       "    }\n",
       "\n",
       "    .dataframe tbody tr th {\n",
       "        vertical-align: top;\n",
       "    }\n",
       "\n",
       "    .dataframe thead th {\n",
       "        text-align: right;\n",
       "    }\n",
       "</style>\n",
       "<table border=\"1\" class=\"dataframe\">\n",
       "  <thead>\n",
       "    <tr style=\"text-align: right;\">\n",
       "      <th></th>\n",
       "      <th>value</th>\n",
       "    </tr>\n",
       "  </thead>\n",
       "  <tbody>\n",
       "    <tr>\n",
       "      <th>Precision@20</th>\n",
       "      <td>0.057519</td>\n",
       "    </tr>\n",
       "    <tr>\n",
       "      <th>Recall@20</th>\n",
       "      <td>0.096321</td>\n",
       "    </tr>\n",
       "    <tr>\n",
       "      <th>MAP@20</th>\n",
       "      <td>0.072985</td>\n",
       "    </tr>\n",
       "    <tr>\n",
       "      <th>MRR@20</th>\n",
       "      <td>0.186324</td>\n",
       "    </tr>\n",
       "    <tr>\n",
       "      <th>HitRate@20</th>\n",
       "      <td>0.474570</td>\n",
       "    </tr>\n",
       "    <tr>\n",
       "      <th>AUC</th>\n",
       "      <td>0.688172</td>\n",
       "    </tr>\n",
       "    <tr>\n",
       "      <th>GAUC</th>\n",
       "      <td>0.704623</td>\n",
       "    </tr>\n",
       "    <tr>\n",
       "      <th>LAUC@20</th>\n",
       "      <td>0.111900</td>\n",
       "    </tr>\n",
       "    <tr>\n",
       "      <th>NDCG20</th>\n",
       "      <td>0.089849</td>\n",
       "    </tr>\n",
       "  </tbody>\n",
       "</table>\n",
       "</div>"
      ],
      "text/plain": [
       "                 value\n",
       "Precision@20  0.057519\n",
       "Recall@20     0.096321\n",
       "MAP@20        0.072985\n",
       "MRR@20        0.186324\n",
       "HitRate@20    0.474570\n",
       "AUC           0.688172\n",
       "GAUC          0.704623\n",
       "LAUC@20       0.111900\n",
       "NDCG20        0.089849"
      ]
     },
     "execution_count": 27,
     "metadata": {},
     "output_type": "execute_result"
    }
   ],
   "source": [
    "results"
   ]
  }
 ],
 "metadata": {
  "kernelspec": {
   "display_name": "Python 3 (ipykernel)",
   "language": "python",
   "name": "python3"
  },
  "language_info": {
   "codemirror_mode": {
    "name": "ipython",
    "version": 3
   },
   "file_extension": ".py",
   "mimetype": "text/x-python",
   "name": "python",
   "nbconvert_exporter": "python",
   "pygments_lexer": "ipython3",
   "version": "3.8.5"
  }
 },
 "nbformat": 4,
 "nbformat_minor": 4
}
