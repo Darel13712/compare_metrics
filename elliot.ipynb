{
 "cells": [
  {
   "cell_type": "code",
   "execution_count": 1,
   "metadata": {},
   "outputs": [
    {
     "data": {
      "text/plain": [
       "'0.1'"
      ]
     },
     "execution_count": 1,
     "metadata": {},
     "output_type": "execute_result"
    }
   ],
   "source": [
    "import elliot\n",
    "elliot.__version__"
   ]
  },
  {
   "cell_type": "code",
   "execution_count": 2,
   "metadata": {},
   "outputs": [],
   "source": [
    "from elliot.evaluation.metrics import *"
   ]
  },
  {
   "cell_type": "code",
   "execution_count": 3,
   "metadata": {},
   "outputs": [],
   "source": [
    "from elliot.evaluation.relevance import Relevance"
   ]
  },
  {
   "cell_type": "code",
   "execution_count": 4,
   "metadata": {},
   "outputs": [],
   "source": [
    "from types import SimpleNamespace"
   ]
  },
  {
   "cell_type": "code",
   "execution_count": 5,
   "metadata": {},
   "outputs": [],
   "source": [
    "import pandas as pd\n",
    "import numpy as np"
   ]
  },
  {
   "cell_type": "code",
   "execution_count": 6,
   "metadata": {},
   "outputs": [],
   "source": [
    "df_pred = pd.read_csv('./pred.csv')\n",
    "df_test = pd.read_csv('./test.csv')"
   ]
  },
  {
   "cell_type": "code",
   "execution_count": 7,
   "metadata": {},
   "outputs": [
    {
     "data": {
      "text/plain": [
       "0.0    51516\n",
       "1.0     3144\n",
       "Name: relevance, dtype: int64"
      ]
     },
     "execution_count": 7,
     "metadata": {},
     "output_type": "execute_result"
    }
   ],
   "source": [
    "df_pred_new = pd.merge(\n",
    "    df_pred, \n",
    "    df_test.loc[:, ['user_id', 'item_id', 'relevance']], on=['user_id', 'item_id'], how='left'\n",
    ")\n",
    "\n",
    "df_pred_new = df_pred_new[df_pred_new.user_id.isin(df_test.user_id)]\n",
    "\n",
    "df_pred_new.fillna(0, inplace=True)\n",
    "\n",
    "df_pred_new.loc[df_pred_new.relevance != 0, 'relevance'] = 1\n",
    "\n",
    "df_pred_new.relevance.value_counts()"
   ]
  },
  {
   "cell_type": "code",
   "execution_count": 8,
   "metadata": {},
   "outputs": [],
   "source": [
    "df_test = df_test[df_test.user_id.isin(df_pred.user_id)]"
   ]
  },
  {
   "cell_type": "code",
   "execution_count": 9,
   "metadata": {},
   "outputs": [
    {
     "data": {
      "text/html": [
       "<div>\n",
       "<style scoped>\n",
       "    .dataframe tbody tr th:only-of-type {\n",
       "        vertical-align: middle;\n",
       "    }\n",
       "\n",
       "    .dataframe tbody tr th {\n",
       "        vertical-align: top;\n",
       "    }\n",
       "\n",
       "    .dataframe thead th {\n",
       "        text-align: right;\n",
       "    }\n",
       "</style>\n",
       "<table border=\"1\" class=\"dataframe\">\n",
       "  <thead>\n",
       "    <tr style=\"text-align: right;\">\n",
       "      <th></th>\n",
       "      <th>user_id</th>\n",
       "      <th>item_id</th>\n",
       "      <th>score</th>\n",
       "      <th>relevance</th>\n",
       "    </tr>\n",
       "  </thead>\n",
       "  <tbody>\n",
       "    <tr>\n",
       "      <th>40</th>\n",
       "      <td>3</td>\n",
       "      <td>590</td>\n",
       "      <td>0.280305</td>\n",
       "      <td>0.0</td>\n",
       "    </tr>\n",
       "    <tr>\n",
       "      <th>41</th>\n",
       "      <td>3</td>\n",
       "      <td>1136</td>\n",
       "      <td>0.263707</td>\n",
       "      <td>0.0</td>\n",
       "    </tr>\n",
       "    <tr>\n",
       "      <th>42</th>\n",
       "      <td>3</td>\n",
       "      <td>920</td>\n",
       "      <td>0.231234</td>\n",
       "      <td>0.0</td>\n",
       "    </tr>\n",
       "    <tr>\n",
       "      <th>43</th>\n",
       "      <td>3</td>\n",
       "      <td>1246</td>\n",
       "      <td>0.188023</td>\n",
       "      <td>0.0</td>\n",
       "    </tr>\n",
       "    <tr>\n",
       "      <th>44</th>\n",
       "      <td>3</td>\n",
       "      <td>318</td>\n",
       "      <td>0.187111</td>\n",
       "      <td>0.0</td>\n",
       "    </tr>\n",
       "    <tr>\n",
       "      <th>...</th>\n",
       "      <td>...</td>\n",
       "      <td>...</td>\n",
       "      <td>...</td>\n",
       "      <td>...</td>\n",
       "    </tr>\n",
       "    <tr>\n",
       "      <th>1179555</th>\n",
       "      <td>71534</td>\n",
       "      <td>1304</td>\n",
       "      <td>0.088851</td>\n",
       "      <td>0.0</td>\n",
       "    </tr>\n",
       "    <tr>\n",
       "      <th>1179556</th>\n",
       "      <td>71534</td>\n",
       "      <td>778</td>\n",
       "      <td>0.085875</td>\n",
       "      <td>0.0</td>\n",
       "    </tr>\n",
       "    <tr>\n",
       "      <th>1179557</th>\n",
       "      <td>71534</td>\n",
       "      <td>1307</td>\n",
       "      <td>0.082908</td>\n",
       "      <td>0.0</td>\n",
       "    </tr>\n",
       "    <tr>\n",
       "      <th>1179558</th>\n",
       "      <td>71534</td>\n",
       "      <td>1258</td>\n",
       "      <td>0.082717</td>\n",
       "      <td>0.0</td>\n",
       "    </tr>\n",
       "    <tr>\n",
       "      <th>1179559</th>\n",
       "      <td>71534</td>\n",
       "      <td>1222</td>\n",
       "      <td>0.077238</td>\n",
       "      <td>0.0</td>\n",
       "    </tr>\n",
       "  </tbody>\n",
       "</table>\n",
       "<p>54660 rows × 4 columns</p>\n",
       "</div>"
      ],
      "text/plain": [
       "         user_id  item_id     score  relevance\n",
       "40             3      590  0.280305        0.0\n",
       "41             3     1136  0.263707        0.0\n",
       "42             3      920  0.231234        0.0\n",
       "43             3     1246  0.188023        0.0\n",
       "44             3      318  0.187111        0.0\n",
       "...          ...      ...       ...        ...\n",
       "1179555    71534     1304  0.088851        0.0\n",
       "1179556    71534      778  0.085875        0.0\n",
       "1179557    71534     1307  0.082908        0.0\n",
       "1179558    71534     1258  0.082717        0.0\n",
       "1179559    71534     1222  0.077238        0.0\n",
       "\n",
       "[54660 rows x 4 columns]"
      ]
     },
     "execution_count": 9,
     "metadata": {},
     "output_type": "execute_result"
    }
   ],
   "source": [
    "df_pred_new"
   ]
  },
  {
   "cell_type": "code",
   "execution_count": 10,
   "metadata": {},
   "outputs": [
    {
     "data": {
      "text/html": [
       "<div>\n",
       "<style scoped>\n",
       "    .dataframe tbody tr th:only-of-type {\n",
       "        vertical-align: middle;\n",
       "    }\n",
       "\n",
       "    .dataframe tbody tr th {\n",
       "        vertical-align: top;\n",
       "    }\n",
       "\n",
       "    .dataframe thead th {\n",
       "        text-align: right;\n",
       "    }\n",
       "</style>\n",
       "<table border=\"1\" class=\"dataframe\">\n",
       "  <thead>\n",
       "    <tr style=\"text-align: right;\">\n",
       "      <th></th>\n",
       "      <th>user_id</th>\n",
       "      <th>item_id</th>\n",
       "      <th>rating</th>\n",
       "      <th>timestamp</th>\n",
       "      <th>relevance</th>\n",
       "    </tr>\n",
       "  </thead>\n",
       "  <tbody>\n",
       "    <tr>\n",
       "      <th>0</th>\n",
       "      <td>1256</td>\n",
       "      <td>5378</td>\n",
       "      <td>5.0</td>\n",
       "      <td>2007-10-31 12:18:24</td>\n",
       "      <td>5.0</td>\n",
       "    </tr>\n",
       "    <tr>\n",
       "      <th>1</th>\n",
       "      <td>1256</td>\n",
       "      <td>778</td>\n",
       "      <td>4.5</td>\n",
       "      <td>2007-10-31 12:19:51</td>\n",
       "      <td>4.5</td>\n",
       "    </tr>\n",
       "    <tr>\n",
       "      <th>2</th>\n",
       "      <td>1256</td>\n",
       "      <td>8376</td>\n",
       "      <td>5.0</td>\n",
       "      <td>2007-10-31 12:30:59</td>\n",
       "      <td>5.0</td>\n",
       "    </tr>\n",
       "    <tr>\n",
       "      <th>3</th>\n",
       "      <td>1256</td>\n",
       "      <td>2594</td>\n",
       "      <td>5.0</td>\n",
       "      <td>2007-10-31 12:20:49</td>\n",
       "      <td>5.0</td>\n",
       "    </tr>\n",
       "    <tr>\n",
       "      <th>4</th>\n",
       "      <td>1256</td>\n",
       "      <td>30810</td>\n",
       "      <td>4.5</td>\n",
       "      <td>2007-10-31 12:32:24</td>\n",
       "      <td>4.5</td>\n",
       "    </tr>\n",
       "    <tr>\n",
       "      <th>...</th>\n",
       "      <td>...</td>\n",
       "      <td>...</td>\n",
       "      <td>...</td>\n",
       "      <td>...</td>\n",
       "      <td>...</td>\n",
       "    </tr>\n",
       "    <tr>\n",
       "      <th>38806</th>\n",
       "      <td>68571</td>\n",
       "      <td>112</td>\n",
       "      <td>5.0</td>\n",
       "      <td>2007-01-28 01:37:59</td>\n",
       "      <td>5.0</td>\n",
       "    </tr>\n",
       "    <tr>\n",
       "      <th>38807</th>\n",
       "      <td>68571</td>\n",
       "      <td>7256</td>\n",
       "      <td>5.0</td>\n",
       "      <td>2007-01-28 01:36:16</td>\n",
       "      <td>5.0</td>\n",
       "    </tr>\n",
       "    <tr>\n",
       "      <th>38808</th>\n",
       "      <td>68571</td>\n",
       "      <td>34405</td>\n",
       "      <td>4.5</td>\n",
       "      <td>2007-01-28 01:13:53</td>\n",
       "      <td>4.5</td>\n",
       "    </tr>\n",
       "    <tr>\n",
       "      <th>38809</th>\n",
       "      <td>68571</td>\n",
       "      <td>2618</td>\n",
       "      <td>5.0</td>\n",
       "      <td>2007-01-28 01:43:19</td>\n",
       "      <td>5.0</td>\n",
       "    </tr>\n",
       "    <tr>\n",
       "      <th>38810</th>\n",
       "      <td>69602</td>\n",
       "      <td>899</td>\n",
       "      <td>4.5</td>\n",
       "      <td>2007-02-14 19:33:09</td>\n",
       "      <td>4.5</td>\n",
       "    </tr>\n",
       "  </tbody>\n",
       "</table>\n",
       "<p>38811 rows × 5 columns</p>\n",
       "</div>"
      ],
      "text/plain": [
       "       user_id  item_id  rating            timestamp  relevance\n",
       "0         1256     5378     5.0  2007-10-31 12:18:24        5.0\n",
       "1         1256      778     4.5  2007-10-31 12:19:51        4.5\n",
       "2         1256     8376     5.0  2007-10-31 12:30:59        5.0\n",
       "3         1256     2594     5.0  2007-10-31 12:20:49        5.0\n",
       "4         1256    30810     4.5  2007-10-31 12:32:24        4.5\n",
       "...        ...      ...     ...                  ...        ...\n",
       "38806    68571      112     5.0  2007-01-28 01:37:59        5.0\n",
       "38807    68571     7256     5.0  2007-01-28 01:36:16        5.0\n",
       "38808    68571    34405     4.5  2007-01-28 01:13:53        4.5\n",
       "38809    68571     2618     5.0  2007-01-28 01:43:19        5.0\n",
       "38810    69602      899     4.5  2007-02-14 19:33:09        4.5\n",
       "\n",
       "[38811 rows x 5 columns]"
      ]
     },
     "execution_count": 10,
     "metadata": {},
     "output_type": "execute_result"
    }
   ],
   "source": [
    "df_test"
   ]
  },
  {
   "cell_type": "code",
   "execution_count": null,
   "metadata": {},
   "outputs": [],
   "source": []
  },
  {
   "cell_type": "code",
   "execution_count": 11,
   "metadata": {},
   "outputs": [],
   "source": [
    "recommendations = {}\n",
    "\n",
    "for user, item_id, score in zip(df_pred_new.user_id, df_pred_new.item_id, df_pred_new.score):\n",
    "\n",
    "    if user in recommendations:\n",
    "        recommendations[user] += [(item_id, score)]\n",
    "    else:\n",
    "        recommendations[user] = [(item_id, score)] "
   ]
  },
  {
   "cell_type": "code",
   "execution_count": 12,
   "metadata": {},
   "outputs": [],
   "source": [
    "gt_recommendations = {}\n",
    "\n",
    "for user, item_id, score in zip(df_test.user_id, df_test.item_id, df_test.relevance):\n",
    "    \n",
    "#     if score > 0:\n",
    "\n",
    "    if user in gt_recommendations:\n",
    "        gt_recommendations[user][item_id] = score\n",
    "    else:\n",
    "        gt_recommendations[user] = {item_id: score}"
   ]
  },
  {
   "cell_type": "code",
   "execution_count": null,
   "metadata": {},
   "outputs": [],
   "source": []
  },
  {
   "cell_type": "code",
   "execution_count": 13,
   "metadata": {},
   "outputs": [
    {
     "data": {
      "text/plain": [
       "0.057519209659714604"
      ]
     },
     "execution_count": 13,
     "metadata": {},
     "output_type": "execute_result"
    }
   ],
   "source": [
    "Precision(recommendations, None, None, \n",
    "          eval_objects = SimpleNamespace(\n",
    "              relevance=Relevance(gt_recommendations, 0.5),\n",
    "              cutoff = 20\n",
    "          )\n",
    ").eval()"
   ]
  },
  {
   "cell_type": "code",
   "execution_count": 14,
   "metadata": {},
   "outputs": [
    {
     "data": {
      "text/plain": [
       "0.09632131280310642"
      ]
     },
     "execution_count": 14,
     "metadata": {},
     "output_type": "execute_result"
    }
   ],
   "source": [
    "Recall(recommendations, None, None, \n",
    "          eval_objects = SimpleNamespace(\n",
    "              relevance=Relevance(gt_recommendations, 0.5),\n",
    "              cutoff = 20\n",
    "          )\n",
    ").eval()"
   ]
  },
  {
   "cell_type": "code",
   "execution_count": 15,
   "metadata": {},
   "outputs": [
    {
     "data": {
      "text/plain": [
       "0.07298532565140084"
      ]
     },
     "execution_count": 15,
     "metadata": {},
     "output_type": "execute_result"
    }
   ],
   "source": [
    "MAP(recommendations, None, None, \n",
    "          eval_objects = SimpleNamespace(\n",
    "              relevance=Relevance(gt_recommendations, 0.5),\n",
    "              cutoff = 20\n",
    "          )\n",
    ").eval()"
   ]
  },
  {
   "cell_type": "code",
   "execution_count": 16,
   "metadata": {},
   "outputs": [
    {
     "data": {
      "text/plain": [
       "0.18632413351027097"
      ]
     },
     "execution_count": 16,
     "metadata": {},
     "output_type": "execute_result"
    }
   ],
   "source": [
    "MRR(recommendations, None, None, \n",
    "          eval_objects = SimpleNamespace(\n",
    "              relevance=Relevance(gt_recommendations, 0.5),\n",
    "              cutoff = 20\n",
    "          )\n",
    ").eval()"
   ]
  },
  {
   "cell_type": "code",
   "execution_count": 17,
   "metadata": {},
   "outputs": [
    {
     "data": {
      "text/plain": [
       "0.47457006952067327"
      ]
     },
     "execution_count": 17,
     "metadata": {},
     "output_type": "execute_result"
    }
   ],
   "source": [
    "HR(recommendations, None, None, \n",
    "          eval_objects = SimpleNamespace(\n",
    "              relevance=Relevance(gt_recommendations, 0.5),\n",
    "              cutoff = 20\n",
    "          )\n",
    ").eval()"
   ]
  },
  {
   "cell_type": "code",
   "execution_count": 18,
   "metadata": {},
   "outputs": [
    {
     "data": {
      "text/plain": [
       "0.08988414852701611"
      ]
     },
     "execution_count": 18,
     "metadata": {},
     "output_type": "execute_result"
    }
   ],
   "source": [
    "NDCG(recommendations, None, None, \n",
    "          eval_objects = SimpleNamespace(\n",
    "              relevance=Relevance(gt_recommendations, 0.5),\n",
    "              cutoff = 20\n",
    "          )\n",
    ").eval()"
   ]
  },
  {
   "cell_type": "code",
   "execution_count": null,
   "metadata": {},
   "outputs": [],
   "source": []
  },
  {
   "cell_type": "code",
   "execution_count": 19,
   "metadata": {},
   "outputs": [],
   "source": [
    "gt_recommendations = {}\n",
    "\n",
    "for user, item_id, score in zip(df_pred_new.user_id, df_pred_new.item_id, df_pred_new.relevance):\n",
    "    if user in gt_recommendations:\n",
    "        gt_recommendations[user][item_id] = score\n",
    "    else:\n",
    "        gt_recommendations[user] = {item_id: score}"
   ]
  },
  {
   "cell_type": "code",
   "execution_count": null,
   "metadata": {},
   "outputs": [],
   "source": []
  },
  {
   "cell_type": "code",
   "execution_count": 20,
   "metadata": {},
   "outputs": [
    {
     "data": {
      "text/plain": [
       "0.6023404513183068"
      ]
     },
     "execution_count": 20,
     "metadata": {},
     "output_type": "execute_result"
    }
   ],
   "source": [
    "AUC(recommendations, None, None, \n",
    "          eval_objects = SimpleNamespace(\n",
    "              relevance=Relevance(gt_recommendations, 0.5),\n",
    "              cutoff=None,\n",
    "              num_items=19,\n",
    "              data=SimpleNamespace(train_dict={x:[] for x in recommendations.keys()})\n",
    "          )\n",
    ").eval()"
   ]
  },
  {
   "cell_type": "code",
   "execution_count": 21,
   "metadata": {},
   "outputs": [
    {
     "data": {
      "text/plain": [
       "0.6187365226601701"
      ]
     },
     "execution_count": 21,
     "metadata": {},
     "output_type": "execute_result"
    }
   ],
   "source": [
    "GAUC(recommendations, None, None, \n",
    "          eval_objects = SimpleNamespace(\n",
    "              relevance=Relevance(gt_recommendations, 0.5),\n",
    "              cutoff=20,\n",
    "              num_items=20,\n",
    "              data=SimpleNamespace(train_dict={x:[] for x in recommendations.keys()})\n",
    "          )\n",
    ").eval()"
   ]
  },
  {
   "cell_type": "code",
   "execution_count": 22,
   "metadata": {},
   "outputs": [
    {
     "data": {
      "text/plain": [
       "0.5966968658330363"
      ]
     },
     "execution_count": 22,
     "metadata": {},
     "output_type": "execute_result"
    }
   ],
   "source": [
    "LAUC(\n",
    "    recommendations, \n",
    "    SimpleNamespace(config_test=False), \n",
    "    None, \n",
    "    eval_objects = SimpleNamespace(\n",
    "      relevance=Relevance(gt_recommendations, 0.5),\n",
    "      cutoff = 20,\n",
    "      num_items=19,\n",
    "      data=SimpleNamespace(train_dict={x:[] for x in recommendations.keys()})\n",
    "    )\n",
    ").eval()"
   ]
  },
  {
   "cell_type": "code",
   "execution_count": null,
   "metadata": {},
   "outputs": [],
   "source": []
  }
 ],
 "metadata": {
  "kernelspec": {
   "display_name": "dev-rinchin",
   "language": "python",
   "name": "dev-rinchin"
  },
  "language_info": {
   "codemirror_mode": {
    "name": "ipython",
    "version": 3
   },
   "file_extension": ".py",
   "mimetype": "text/x-python",
   "name": "python",
   "nbconvert_exporter": "python",
   "pygments_lexer": "ipython3",
   "version": "3.6.9"
  }
 },
 "nbformat": 4,
 "nbformat_minor": 2
}
