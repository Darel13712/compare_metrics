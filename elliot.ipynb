{
 "cells": [
  {
   "cell_type": "code",
   "execution_count": 1,
   "metadata": {},
   "outputs": [
    {
     "data": {
      "text/plain": [
       "'0.1'"
      ]
     },
     "execution_count": 1,
     "metadata": {},
     "output_type": "execute_result"
    }
   ],
   "source": [
    "import elliot\n",
    "elliot.__version__"
   ]
  },
  {
   "cell_type": "code",
   "execution_count": 2,
   "metadata": {},
   "outputs": [],
   "source": [
    "from elliot.evaluation.metrics import *"
   ]
  },
  {
   "cell_type": "code",
   "execution_count": 3,
   "metadata": {},
   "outputs": [],
   "source": [
    "from elliot.evaluation.relevance import Relevance"
   ]
  },
  {
   "cell_type": "code",
   "execution_count": 4,
   "metadata": {},
   "outputs": [],
   "source": [
    "from types import SimpleNamespace"
   ]
  },
  {
   "cell_type": "code",
   "execution_count": 5,
   "metadata": {},
   "outputs": [],
   "source": [
    "import pandas as pd\n",
    "import numpy as np"
   ]
  },
  {
   "cell_type": "code",
   "execution_count": 6,
   "metadata": {},
   "outputs": [],
   "source": [
    "df_pred = pd.read_csv('./pred.csv')\n",
    "df_test = pd.read_csv('./test.csv')"
   ]
  },
  {
   "cell_type": "code",
   "execution_count": 7,
   "metadata": {},
   "outputs": [
    {
     "data": {
      "text/plain": [
       "0.0    51516\n",
       "1.0     3144\n",
       "Name: relevance, dtype: int64"
      ]
     },
     "execution_count": 7,
     "metadata": {},
     "output_type": "execute_result"
    }
   ],
   "source": [
    "df_pred_new = pd.merge(\n",
    "    df_pred, \n",
    "    df_test.loc[:, ['user_id', 'item_id', 'relevance']], on=['user_id', 'item_id'], how='left'\n",
    ")\n",
    "\n",
    "df_pred_new = df_pred_new[df_pred_new.user_id.isin(df_test.user_id)]\n",
    "\n",
    "df_pred_new.fillna(0, inplace=True)\n",
    "\n",
    "df_pred_new.loc[df_pred_new.relevance != 0, 'relevance'] = 1\n",
    "\n",
    "df_pred_new.relevance.value_counts()"
   ]
  },
  {
   "cell_type": "code",
   "execution_count": 8,
   "metadata": {},
   "outputs": [],
   "source": [
    "df_test = df_test[df_test.user_id.isin(df_pred.user_id)]"
   ]
  },
  {
   "cell_type": "code",
   "execution_count": null,
   "metadata": {},
   "outputs": [],
   "source": []
  },
  {
   "cell_type": "code",
   "execution_count": 9,
   "metadata": {},
   "outputs": [],
   "source": [
    "recommendations = {}\n",
    "\n",
    "for user, item_id, score in zip(df_pred_new.user_id, df_pred_new.item_id, df_pred_new.score):\n",
    "\n",
    "    if user in recommendations:\n",
    "        recommendations[user] += [(item_id, score)]\n",
    "    else:\n",
    "        recommendations[user] = [(item_id, score)] "
   ]
  },
  {
   "cell_type": "code",
   "execution_count": 10,
   "metadata": {},
   "outputs": [],
   "source": [
    "gt_recommendations = {}\n",
    "\n",
    "for user, item_id, score in zip(df_test.user_id, df_test.item_id, df_test.relevance):\n",
    "    \n",
    "#     if score > 0:\n",
    "\n",
    "    if user in gt_recommendations:\n",
    "        gt_recommendations[user][item_id] = int(score > 0)\n",
    "    else:\n",
    "        gt_recommendations[user] = {item_id: int(score > 0)}"
   ]
  },
  {
   "cell_type": "code",
   "execution_count": null,
   "metadata": {},
   "outputs": [],
   "source": []
  },
  {
   "cell_type": "code",
   "execution_count": 11,
   "metadata": {},
   "outputs": [
    {
     "data": {
      "text/plain": [
       "0.057519209659714604"
      ]
     },
     "execution_count": 11,
     "metadata": {},
     "output_type": "execute_result"
    }
   ],
   "source": [
    "Precision(recommendations, None, None, \n",
    "          eval_objects = SimpleNamespace(\n",
    "              relevance=Relevance(gt_recommendations, 0.5),\n",
    "              cutoff = 20\n",
    "          )\n",
    ").eval()"
   ]
  },
  {
   "cell_type": "code",
   "execution_count": 12,
   "metadata": {},
   "outputs": [
    {
     "data": {
      "text/plain": [
       "0.09632131280310642"
      ]
     },
     "execution_count": 12,
     "metadata": {},
     "output_type": "execute_result"
    }
   ],
   "source": [
    "Recall(recommendations, None, None, \n",
    "          eval_objects = SimpleNamespace(\n",
    "              relevance=Relevance(gt_recommendations, 0.5),\n",
    "              cutoff = 20\n",
    "          )\n",
    ").eval()"
   ]
  },
  {
   "cell_type": "code",
   "execution_count": 13,
   "metadata": {},
   "outputs": [
    {
     "data": {
      "text/plain": [
       "0.07298532565140084"
      ]
     },
     "execution_count": 13,
     "metadata": {},
     "output_type": "execute_result"
    }
   ],
   "source": [
    "MAP(recommendations, None, None, \n",
    "          eval_objects = SimpleNamespace(\n",
    "              relevance=Relevance(gt_recommendations, 0.5),\n",
    "              cutoff = 20\n",
    "          )\n",
    ").eval()"
   ]
  },
  {
   "cell_type": "code",
   "execution_count": 14,
   "metadata": {},
   "outputs": [
    {
     "data": {
      "text/plain": [
       "0.18632413351027097"
      ]
     },
     "execution_count": 14,
     "metadata": {},
     "output_type": "execute_result"
    }
   ],
   "source": [
    "MRR(recommendations, None, None, \n",
    "          eval_objects = SimpleNamespace(\n",
    "              relevance=Relevance(gt_recommendations, 0.5),\n",
    "              cutoff = 20\n",
    "          )\n",
    ").eval()"
   ]
  },
  {
   "cell_type": "code",
   "execution_count": 15,
   "metadata": {},
   "outputs": [
    {
     "data": {
      "text/plain": [
       "0.47457006952067327"
      ]
     },
     "execution_count": 15,
     "metadata": {},
     "output_type": "execute_result"
    }
   ],
   "source": [
    "HR(recommendations, None, None, \n",
    "          eval_objects = SimpleNamespace(\n",
    "              relevance=Relevance(gt_recommendations, 0.5),\n",
    "              cutoff = 20\n",
    "          )\n",
    ").eval()"
   ]
  },
  {
   "cell_type": "code",
   "execution_count": 16,
   "metadata": {},
   "outputs": [
    {
     "data": {
      "text/plain": [
       "0.09326437896736814"
      ]
     },
     "execution_count": 16,
     "metadata": {},
     "output_type": "execute_result"
    }
   ],
   "source": [
    "NDCG(recommendations, None, None, \n",
    "          eval_objects = SimpleNamespace(\n",
    "              relevance=Relevance(gt_recommendations, 0.5),\n",
    "              cutoff = 20\n",
    "          )\n",
    ").eval()"
   ]
  },
  {
   "cell_type": "code",
   "execution_count": null,
   "metadata": {},
   "outputs": [],
   "source": []
  },
  {
   "cell_type": "code",
   "execution_count": 17,
   "metadata": {},
   "outputs": [],
   "source": [
    "gt_recommendations = {}\n",
    "\n",
    "for user, item_id, score in zip(df_pred_new.user_id, df_pred_new.item_id, df_pred_new.relevance):\n",
    "    if user in gt_recommendations:\n",
    "        gt_recommendations[user][item_id] = score\n",
    "    else:\n",
    "        gt_recommendations[user] = {item_id: score}"
   ]
  },
  {
   "cell_type": "code",
   "execution_count": null,
   "metadata": {},
   "outputs": [],
   "source": []
  },
  {
   "cell_type": "code",
   "execution_count": 18,
   "metadata": {},
   "outputs": [
    {
     "data": {
      "text/plain": [
       "0.6023404513183068"
      ]
     },
     "execution_count": 18,
     "metadata": {},
     "output_type": "execute_result"
    }
   ],
   "source": [
    "AUC(recommendations, None, None, \n",
    "          eval_objects = SimpleNamespace(\n",
    "              relevance=Relevance(gt_recommendations, 0.5),\n",
    "              cutoff=None,\n",
    "              num_items=19,\n",
    "              data=SimpleNamespace(train_dict={x:[] for x in recommendations.keys()})\n",
    "          )\n",
    ").eval()"
   ]
  },
  {
   "cell_type": "code",
   "execution_count": 19,
   "metadata": {},
   "outputs": [
    {
     "data": {
      "text/plain": [
       "0.6187365226601701"
      ]
     },
     "execution_count": 19,
     "metadata": {},
     "output_type": "execute_result"
    }
   ],
   "source": [
    "GAUC(recommendations, None, None, \n",
    "          eval_objects = SimpleNamespace(\n",
    "              relevance=Relevance(gt_recommendations, 0.5),\n",
    "              cutoff=20,\n",
    "              num_items=20,\n",
    "              data=SimpleNamespace(train_dict={x:[] for x in recommendations.keys()})\n",
    "          )\n",
    ").eval()"
   ]
  },
  {
   "cell_type": "code",
   "execution_count": 20,
   "metadata": {},
   "outputs": [
    {
     "data": {
      "text/plain": [
       "0.5966968658330363"
      ]
     },
     "execution_count": 20,
     "metadata": {},
     "output_type": "execute_result"
    }
   ],
   "source": [
    "LAUC(\n",
    "    recommendations, \n",
    "    SimpleNamespace(config_test=False), \n",
    "    None, \n",
    "    eval_objects = SimpleNamespace(\n",
    "      relevance=Relevance(gt_recommendations, 0.5),\n",
    "      cutoff = 20,\n",
    "      num_items=19,\n",
    "      data=SimpleNamespace(train_dict={x:[] for x in recommendations.keys()})\n",
    "    )\n",
    ").eval()"
   ]
  },
  {
   "cell_type": "code",
   "execution_count": null,
   "metadata": {},
   "outputs": [],
   "source": []
  }
 ],
 "metadata": {
  "kernelspec": {
   "display_name": "dev-rinchin",
   "language": "python",
   "name": "dev-rinchin"
  },
  "language_info": {
   "codemirror_mode": {
    "name": "ipython",
    "version": 3
   },
   "file_extension": ".py",
   "mimetype": "text/x-python",
   "name": "python",
   "nbconvert_exporter": "python",
   "pygments_lexer": "ipython3",
   "version": "3.6.9"
  }
 },
 "nbformat": 4,
 "nbformat_minor": 2
}
