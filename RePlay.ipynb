{
 "cells": [
  {
   "cell_type": "code",
   "execution_count": 1,
   "id": "dd0ed1ca-6997-4eba-85db-6fd4f0bf015e",
   "metadata": {},
   "outputs": [],
   "source": [
    "import pandas as pd\n",
    "import replay\n",
    "from replay.metrics import Precision, HitRate, MRR, NDCG, Recall, RocAuc, MAP"
   ]
  },
  {
   "cell_type": "markdown",
   "id": "fd302852-811f-4996-a943-4124ea0a504d",
   "metadata": {},
   "source": [
    "### Version"
   ]
  },
  {
   "cell_type": "code",
   "execution_count": 2,
   "id": "a7aff541-b5e8-4595-bffd-6f80d92a00d2",
   "metadata": {},
   "outputs": [
    {
     "data": {
      "text/plain": [
       "'0.4.0'"
      ]
     },
     "execution_count": 2,
     "metadata": {},
     "output_type": "execute_result"
    }
   ],
   "source": [
    "replay.__version__"
   ]
  },
  {
   "cell_type": "markdown",
   "id": "dd3848d1-bd9b-4034-b0e4-f39690c02872",
   "metadata": {},
   "source": [
    "### Data preparation"
   ]
  },
  {
   "cell_type": "code",
   "execution_count": 3,
   "id": "1044105f-9c75-48e8-96f5-5d4891c2ab59",
   "metadata": {},
   "outputs": [
    {
     "data": {
      "text/plain": [
       "0.0    21307932\n",
       "4.5       25887\n",
       "5.0       12924\n",
       "Name: relevance, dtype: int64"
      ]
     },
     "execution_count": 3,
     "metadata": {},
     "output_type": "execute_result"
    }
   ],
   "source": [
    "df_pred = pd.read_csv('./preds_full.csv')\n",
    "df_test = pd.read_csv('./test.csv')"
   ]
  },
  {
   "cell_type": "code",
   "execution_count": 14,
   "id": "437508f0-e0f3-478a-a633-cc86fb52b860",
   "metadata": {},
   "outputs": [],
   "source": [
    "df_pred.columns=[\"user_id\",\"item_id\",\"relevance\"]"
   ]
  },
  {
   "cell_type": "code",
   "execution_count": 15,
   "id": "6f453eab-9fc4-4335-8b0d-e4ea613276cf",
   "metadata": {},
   "outputs": [
    {
     "data": {
      "text/html": [
       "<div>\n",
       "<style scoped>\n",
       "    .dataframe tbody tr th:only-of-type {\n",
       "        vertical-align: middle;\n",
       "    }\n",
       "\n",
       "    .dataframe tbody tr th {\n",
       "        vertical-align: top;\n",
       "    }\n",
       "\n",
       "    .dataframe thead th {\n",
       "        text-align: right;\n",
       "    }\n",
       "</style>\n",
       "<table border=\"1\" class=\"dataframe\">\n",
       "  <thead>\n",
       "    <tr style=\"text-align: right;\">\n",
       "      <th></th>\n",
       "      <th>user_id</th>\n",
       "      <th>item_id</th>\n",
       "      <th>relevance</th>\n",
       "    </tr>\n",
       "  </thead>\n",
       "  <tbody>\n",
       "    <tr>\n",
       "      <th>0</th>\n",
       "      <td>28238</td>\n",
       "      <td>4993</td>\n",
       "      <td>0.507034</td>\n",
       "    </tr>\n",
       "    <tr>\n",
       "      <th>1</th>\n",
       "      <td>28238</td>\n",
       "      <td>593</td>\n",
       "      <td>0.481357</td>\n",
       "    </tr>\n",
       "    <tr>\n",
       "      <th>2</th>\n",
       "      <td>28238</td>\n",
       "      <td>3147</td>\n",
       "      <td>0.350242</td>\n",
       "    </tr>\n",
       "    <tr>\n",
       "      <th>3</th>\n",
       "      <td>28238</td>\n",
       "      <td>6874</td>\n",
       "      <td>0.346964</td>\n",
       "    </tr>\n",
       "    <tr>\n",
       "      <th>4</th>\n",
       "      <td>28238</td>\n",
       "      <td>32587</td>\n",
       "      <td>0.341740</td>\n",
       "    </tr>\n",
       "  </tbody>\n",
       "</table>\n",
       "</div>"
      ],
      "text/plain": [
       "   user_id  item_id  relevance\n",
       "0    28238     4993   0.507034\n",
       "1    28238      593   0.481357\n",
       "2    28238     3147   0.350242\n",
       "3    28238     6874   0.346964\n",
       "4    28238    32587   0.341740"
      ]
     },
     "execution_count": 15,
     "metadata": {},
     "output_type": "execute_result"
    }
   ],
   "source": [
    "df_pred.head()"
   ]
  },
  {
   "cell_type": "code",
   "execution_count": 5,
   "id": "47c6f5e8-d216-4460-bbd1-2c09b1116c96",
   "metadata": {},
   "outputs": [
    {
     "data": {
      "text/html": [
       "<div>\n",
       "<style scoped>\n",
       "    .dataframe tbody tr th:only-of-type {\n",
       "        vertical-align: middle;\n",
       "    }\n",
       "\n",
       "    .dataframe tbody tr th {\n",
       "        vertical-align: top;\n",
       "    }\n",
       "\n",
       "    .dataframe thead th {\n",
       "        text-align: right;\n",
       "    }\n",
       "</style>\n",
       "<table border=\"1\" class=\"dataframe\">\n",
       "  <thead>\n",
       "    <tr style=\"text-align: right;\">\n",
       "      <th></th>\n",
       "      <th>user_id</th>\n",
       "      <th>item_id</th>\n",
       "      <th>rating</th>\n",
       "      <th>timestamp</th>\n",
       "      <th>relevance</th>\n",
       "    </tr>\n",
       "  </thead>\n",
       "  <tbody>\n",
       "    <tr>\n",
       "      <th>0</th>\n",
       "      <td>1256</td>\n",
       "      <td>5378</td>\n",
       "      <td>5.0</td>\n",
       "      <td>2007-10-31 12:18:24</td>\n",
       "      <td>5.0</td>\n",
       "    </tr>\n",
       "    <tr>\n",
       "      <th>1</th>\n",
       "      <td>1256</td>\n",
       "      <td>778</td>\n",
       "      <td>4.5</td>\n",
       "      <td>2007-10-31 12:19:51</td>\n",
       "      <td>4.5</td>\n",
       "    </tr>\n",
       "    <tr>\n",
       "      <th>2</th>\n",
       "      <td>1256</td>\n",
       "      <td>8376</td>\n",
       "      <td>5.0</td>\n",
       "      <td>2007-10-31 12:30:59</td>\n",
       "      <td>5.0</td>\n",
       "    </tr>\n",
       "    <tr>\n",
       "      <th>3</th>\n",
       "      <td>1256</td>\n",
       "      <td>2594</td>\n",
       "      <td>5.0</td>\n",
       "      <td>2007-10-31 12:20:49</td>\n",
       "      <td>5.0</td>\n",
       "    </tr>\n",
       "    <tr>\n",
       "      <th>4</th>\n",
       "      <td>1256</td>\n",
       "      <td>30810</td>\n",
       "      <td>4.5</td>\n",
       "      <td>2007-10-31 12:32:24</td>\n",
       "      <td>4.5</td>\n",
       "    </tr>\n",
       "  </tbody>\n",
       "</table>\n",
       "</div>"
      ],
      "text/plain": [
       "   user_id  item_id  rating            timestamp  relevance\n",
       "0     1256     5378     5.0  2007-10-31 12:18:24        5.0\n",
       "1     1256      778     4.5  2007-10-31 12:19:51        4.5\n",
       "2     1256     8376     5.0  2007-10-31 12:30:59        5.0\n",
       "3     1256     2594     5.0  2007-10-31 12:20:49        5.0\n",
       "4     1256    30810     4.5  2007-10-31 12:32:24        4.5"
      ]
     },
     "execution_count": 5,
     "metadata": {},
     "output_type": "execute_result"
    }
   ],
   "source": [
    "df_test.head()"
   ]
  },
  {
   "cell_type": "markdown",
   "id": "971321ca-2e0c-4e84-a202-a5b96905d06a",
   "metadata": {},
   "source": [
    "### Evaluation metrics"
   ]
  },
  {
   "cell_type": "code",
   "execution_count": 17,
   "id": "68cd88c1-de5a-4ef1-aeed-c9f28da8db08",
   "metadata": {},
   "outputs": [],
   "source": [
    "results = pd.DataFrame()"
   ]
  },
  {
   "cell_type": "code",
   "execution_count": 18,
   "id": "13bb96e4-fa30-401f-a975-bb228d33fb4b",
   "metadata": {},
   "outputs": [
    {
     "name": "stderr",
     "output_type": "stream",
     "text": [
      "21/07/13 20:34:43 WARN TaskSetManager: Stage 20 contains a task of very large size (62543 KiB). The maximum recommended task size is 1000 KiB.\n",
      "                                                                                \r"
     ]
    }
   ],
   "source": [
    "results.at[\"HitRate@20\",\"value\"] = HitRate()(df_pred,df_test,20)"
   ]
  },
  {
   "cell_type": "code",
   "execution_count": 19,
   "id": "207a9001-ec2a-42a9-b396-02148e860806",
   "metadata": {},
   "outputs": [
    {
     "name": "stderr",
     "output_type": "stream",
     "text": [
      "21/07/13 20:36:05 WARN TaskSetManager: Stage 25 contains a task of very large size (62543 KiB). The maximum recommended task size is 1000 KiB.\n",
      "                                                                                \r"
     ]
    }
   ],
   "source": [
    "results.at[\"Precision@20\",\"value\"] = Precision()(df_pred,df_test,20)"
   ]
  },
  {
   "cell_type": "code",
   "execution_count": 25,
   "id": "ad101956-4e20-423d-9171-69eb48060d6e",
   "metadata": {},
   "outputs": [
    {
     "name": "stderr",
     "output_type": "stream",
     "text": [
      "21/07/13 20:41:59 WARN TaskSetManager: Stage 50 contains a task of very large size (62543 KiB). The maximum recommended task size is 1000 KiB.\n",
      "                                                                                \r"
     ]
    }
   ],
   "source": [
    "results.at[\"Recall@20\",\"value\"] = Recall()(df_pred,df_test,20)"
   ]
  },
  {
   "cell_type": "code",
   "execution_count": 20,
   "id": "aacab65f-730a-4cfe-97b0-127441fa2711",
   "metadata": {},
   "outputs": [
    {
     "name": "stderr",
     "output_type": "stream",
     "text": [
      "21/07/13 20:37:06 WARN TaskSetManager: Stage 30 contains a task of very large size (62543 KiB). The maximum recommended task size is 1000 KiB.\n",
      "                                                                                \r"
     ]
    }
   ],
   "source": [
    "results.at[\"NDCG@20\",\"value\"] =RocAucG()(df_pred,df_test,20)"
   ]
  },
  {
   "cell_type": "code",
   "execution_count": 21,
   "id": "ea4ae311-3f56-4603-82f3-16808affdb9b",
   "metadata": {},
   "outputs": [
    {
     "name": "stderr",
     "output_type": "stream",
     "text": [
      "21/07/13 20:38:08 WARN TaskSetManager: Stage 35 contains a task of very large size (62543 KiB). The maximum recommended task size is 1000 KiB.\n",
      "                                                                                \r"
     ]
    }
   ],
   "source": [
    "results.at[\"MAP@20\",\"value\"] = MAP()(df_pred,df_test,20)"
   ]
  },
  {
   "cell_type": "code",
   "execution_count": 22,
   "id": "84d67251-b0cd-442f-9d33-310d221f959d",
   "metadata": {},
   "outputs": [
    {
     "name": "stderr",
     "output_type": "stream",
     "text": [
      "21/07/13 20:39:32 WARN TaskSetManager: Stage 40 contains a task of very large size (62543 KiB). The maximum recommended task size is 1000 KiB.\n",
      "                                                                                \r"
     ]
    }
   ],
   "source": [
    "results.at[\"MRR@20\",\"value\"] = MRR()(df_pred,df_test,20)"
   ]
  },
  {
   "cell_type": "code",
   "execution_count": 23,
   "id": "ea76a0ae-12b1-4d44-8af9-a9aa3dda3849",
   "metadata": {},
   "outputs": [
    {
     "name": "stderr",
     "output_type": "stream",
     "text": [
      "21/07/13 20:40:48 WARN TaskSetManager: Stage 45 contains a task of very large size (62543 KiB). The maximum recommended task size is 1000 KiB.\n",
      "                                                                                \r"
     ]
    }
   ],
   "source": [
    "results.at[\"AUC@20\",\"value\"] = RocAuc()(df_pred,df_test,20)"
   ]
  },
  {
   "cell_type": "markdown",
   "id": "ac6529f9-717e-46d8-9bb2-f509d3d354b8",
   "metadata": {},
   "source": [
    "### Results"
   ]
  },
  {
   "cell_type": "code",
   "execution_count": 26,
   "id": "904a8049-d1cc-4641-987c-f7315e9c87ae",
   "metadata": {},
   "outputs": [
    {
     "data": {
      "text/html": [
       "<div>\n",
       "<style scoped>\n",
       "    .dataframe tbody tr th:only-of-type {\n",
       "        vertical-align: middle;\n",
       "    }\n",
       "\n",
       "    .dataframe tbody tr th {\n",
       "        vertical-align: top;\n",
       "    }\n",
       "\n",
       "    .dataframe thead th {\n",
       "        text-align: right;\n",
       "    }\n",
       "</style>\n",
       "<table border=\"1\" class=\"dataframe\">\n",
       "  <thead>\n",
       "    <tr style=\"text-align: right;\">\n",
       "      <th></th>\n",
       "      <th>value</th>\n",
       "    </tr>\n",
       "  </thead>\n",
       "  <tbody>\n",
       "    <tr>\n",
       "      <th>HitRate@20</th>\n",
       "      <td>0.474570</td>\n",
       "    </tr>\n",
       "    <tr>\n",
       "      <th>Precision@20</th>\n",
       "      <td>0.057519</td>\n",
       "    </tr>\n",
       "    <tr>\n",
       "      <th>NDCG@20</th>\n",
       "      <td>0.093264</td>\n",
       "    </tr>\n",
       "    <tr>\n",
       "      <th>MAP@20</th>\n",
       "      <td>0.039272</td>\n",
       "    </tr>\n",
       "    <tr>\n",
       "      <th>MRR@20</th>\n",
       "      <td>0.186324</td>\n",
       "    </tr>\n",
       "    <tr>\n",
       "      <th>AUC@20</th>\n",
       "      <td>0.283174</td>\n",
       "    </tr>\n",
       "    <tr>\n",
       "      <th>Recall@20</th>\n",
       "      <td>0.096321</td>\n",
       "    </tr>\n",
       "  </tbody>\n",
       "</table>\n",
       "</div>"
      ],
      "text/plain": [
       "                 value\n",
       "HitRate@20    0.474570\n",
       "Precision@20  0.057519\n",
       "NDCG@20       0.093264\n",
       "MAP@20        0.039272\n",
       "MRR@20        0.186324\n",
       "AUC@20        0.283174\n",
       "Recall@20     0.096321"
      ]
     },
     "execution_count": 26,
     "metadata": {},
     "output_type": "execute_result"
    }
   ],
   "source": [
    "results"
   ]
  }
 ],
 "metadata": {
  "kernelspec": {
   "display_name": "Python 3 (ipykernel)",
   "language": "python",
   "name": "python3"
  },
  "language_info": {
   "codemirror_mode": {
    "name": "ipython",
    "version": 3
   },
   "file_extension": ".py",
   "mimetype": "text/x-python",
   "name": "python",
   "nbconvert_exporter": "python",
   "pygments_lexer": "ipython3",
   "version": "3.8.5"
  }
 },
 "nbformat": 4,
 "nbformat_minor": 5
}
