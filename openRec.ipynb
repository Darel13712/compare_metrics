{
 "cells": [
  {
   "cell_type": "code",
   "execution_count": 1,
   "metadata": {},
   "outputs": [],
   "source": [
    "import pandas as pd\n",
    "import numpy as np\n",
    "import openrec\n",
    "import tensorflow as tf\n",
    "from openrec.tf1.utils.evaluators import Precision\n",
    "from openrec.tf2.metrics.ranking_metrics import Recall, NDCG, AUC"
   ]
  },
  {
   "cell_type": "markdown",
   "metadata": {},
   "source": [
    "### Version"
   ]
  },
  {
   "cell_type": "code",
   "execution_count": 2,
   "metadata": {},
   "outputs": [
    {
     "name": "stdout",
     "output_type": "stream",
     "text": [
      "openrec==0.3.0\n"
     ]
    }
   ],
   "source": [
    "!pip freeze | grep openrec"
   ]
  },
  {
   "cell_type": "code",
   "execution_count": 3,
   "metadata": {},
   "outputs": [
    {
     "data": {
      "text/plain": [
       "'2.5.0'"
      ]
     },
     "execution_count": 3,
     "metadata": {},
     "output_type": "execute_result"
    }
   ],
   "source": [
    "tf.__version__"
   ]
  },
  {
   "cell_type": "markdown",
   "metadata": {},
   "source": [
    "### Data preparation"
   ]
  },
  {
   "cell_type": "code",
   "execution_count": 4,
   "metadata": {},
   "outputs": [
    {
     "data": {
      "text/plain": [
       "0.0    21307932\n",
       "4.5       25887\n",
       "5.0       12924\n",
       "Name: relevance, dtype: int64"
      ]
     },
     "execution_count": 4,
     "metadata": {},
     "output_type": "execute_result"
    }
   ],
   "source": [
    "df_pred = pd.read_csv('./preds_full.csv')\n",
    "df_test = pd.read_csv('./test.csv')\n",
    "\n",
    "df_pred_new = pd.merge(\n",
    "    df_pred, \n",
    "    df_test.loc[:, ['user_id', 'item_id', 'relevance']], on=['user_id', 'item_id'], how='left'\n",
    ")\n",
    "\n",
    "df_pred_new = df_pred_new[df_pred_new.user_id.isin(df_test.user_id)]\n",
    "\n",
    "df_pred_new.fillna(0, inplace=True)\n",
    "\n",
    "df_pred_new.relevance.value_counts()"
   ]
  },
  {
   "cell_type": "code",
   "execution_count": 5,
   "metadata": {},
   "outputs": [],
   "source": [
    "all_items = np.unique(np.hstack(\n",
    "    [df_pred_new.item_id.unique(), df_test.item_id.unique()]\n",
    "))"
   ]
  },
  {
   "cell_type": "code",
   "execution_count": 6,
   "metadata": {},
   "outputs": [],
   "source": [
    "all_users = df_test.user_id.unique()"
   ]
  },
  {
   "cell_type": "code",
   "execution_count": 7,
   "metadata": {},
   "outputs": [],
   "source": [
    "user_dict = dict(zip(all_users, range(len(all_users))))\n",
    "item_dict = dict(zip(all_items, range(len(all_items))))"
   ]
  },
  {
   "cell_type": "code",
   "execution_count": 8,
   "metadata": {},
   "outputs": [],
   "source": [
    "user_pred_np = np.zeros((len(all_users), len(all_items)))\n",
    "user_pos_mask_np = np.zeros((len(all_users), len(all_items)), dtype=bool)\n",
    "\n",
    "for user_id, item_id, score in zip(df_pred_new.user_id, df_pred_new.item_id, df_pred_new.score):\n",
    "    user_pred_np[user_dict[user_id]][item_dict[item_id]] = score\n",
    "\n",
    "for user_id, item_id, score in zip(df_test.user_id, df_test.item_id, df_test.relevance):\n",
    "    user_pos_mask_np[user_dict[user_id]][item_dict[item_id]] = True"
   ]
  },
  {
   "cell_type": "code",
   "execution_count": 9,
   "metadata": {},
   "outputs": [],
   "source": [
    "arr_inds = user_pred_np.argsort(axis=1)\n",
    "arr_inds = np.flip(arr_inds, axis=1)"
   ]
  },
  {
   "cell_type": "code",
   "execution_count": 10,
   "metadata": {},
   "outputs": [],
   "source": [
    "user_pred_np = np.take_along_axis(user_pred_np, arr_inds, axis=1)\n",
    "user_pos_mask_np = np.take_along_axis(user_pos_mask_np, arr_inds, axis=1)"
   ]
  },
  {
   "cell_type": "code",
   "execution_count": 11,
   "metadata": {},
   "outputs": [
    {
     "name": "stderr",
     "output_type": "stream",
     "text": [
      "2021-07-13 18:18:30.786560: I tensorflow/core/platform/cpu_feature_guard.cc:142] This TensorFlow binary is optimized with oneAPI Deep Neural Network Library (oneDNN) to use the following CPU instructions in performance-critical operations:  AVX2 FMA\n",
      "To enable them in other operations, rebuild TensorFlow with the appropriate compiler flags.\n"
     ]
    }
   ],
   "source": [
    "user_excl_mask = tf.constant(np.zeros_like(user_pos_mask_np, dtype=bool))\n",
    "user_pred = tf.constant(user_pred_np.astype(np.float32), dtype=tf.float32)\n",
    "user_pos_mask = tf.constant(user_pos_mask_np, dtype=tf.bool)"
   ]
  },
  {
   "cell_type": "markdown",
   "metadata": {},
   "source": [
    "### Evaluation metrics"
   ]
  },
  {
   "cell_type": "code",
   "execution_count": 12,
   "metadata": {},
   "outputs": [],
   "source": [
    "results = pd.DataFrame()"
   ]
  },
  {
   "cell_type": "code",
   "execution_count": 13,
   "metadata": {},
   "outputs": [
    {
     "name": "stdout",
     "output_type": "stream",
     "text": [
      "WARNING:tensorflow:Setting parallel_iterations > 1 has no effect when executing eagerly. Consider calling map_fn with tf.function to execute fn in parallel.\n"
     ]
    }
   ],
   "source": [
    "results.at[\"Recall@20\",\"value\"] = tf.math.reduce_mean(\n",
    "    Recall(pos_mask=user_pos_mask, pred=user_pred, excl_mask=user_excl_mask, at=[20])\n",
    ").numpy()"
   ]
  },
  {
   "cell_type": "code",
   "execution_count": 15,
   "metadata": {},
   "outputs": [],
   "source": [
    "results.at[\"NDCG@20\",\"value\"] = tf.math.reduce_mean(\n",
    "    NDCG(pos_mask=user_pos_mask, pred=user_pred, excl_mask=user_excl_mask, at=[20])\n",
    ").numpy()"
   ]
  },
  {
   "cell_type": "code",
   "execution_count": 16,
   "metadata": {},
   "outputs": [],
   "source": [
    "results.at[\"AUC\",\"value\"] = tf.math.reduce_mean(\n",
    "    AUC(pos_mask=user_pos_mask, pred=user_pred, excl_mask=user_excl_mask)\n",
    ").numpy()"
   ]
  },
  {
   "cell_type": "code",
   "execution_count": 17,
   "metadata": {},
   "outputs": [],
   "source": [
    "true_pos = [\n",
    "    np.where(\n",
    "        df_pred_new[df_pred_new.user_id == user].sort_values('score', ascending=False).relevance.tolist()\n",
    "    )[0] + 1\n",
    "    for user in df_pred_new.user_id.unique()\n",
    "]"
   ]
  },
  {
   "cell_type": "code",
   "execution_count": 18,
   "metadata": {},
   "outputs": [],
   "source": [
    "results.at[\"Precision@20\",\"value\"] = np.mean(\n",
    "    [Precision(precision_at=[20]).compute(x, None) for x in true_pos]\n",
    ")"
   ]
  },
  {
   "cell_type": "markdown",
   "metadata": {},
   "source": [
    "### Results"
   ]
  },
  {
   "cell_type": "code",
   "execution_count": 19,
   "metadata": {},
   "outputs": [
    {
     "data": {
      "text/html": [
       "<div>\n",
       "<style scoped>\n",
       "    .dataframe tbody tr th:only-of-type {\n",
       "        vertical-align: middle;\n",
       "    }\n",
       "\n",
       "    .dataframe tbody tr th {\n",
       "        vertical-align: top;\n",
       "    }\n",
       "\n",
       "    .dataframe thead th {\n",
       "        text-align: right;\n",
       "    }\n",
       "</style>\n",
       "<table border=\"1\" class=\"dataframe\">\n",
       "  <thead>\n",
       "    <tr style=\"text-align: right;\">\n",
       "      <th></th>\n",
       "      <th>value</th>\n",
       "    </tr>\n",
       "  </thead>\n",
       "  <tbody>\n",
       "    <tr>\n",
       "      <th>Recall@20</th>\n",
       "      <td>0.096321</td>\n",
       "    </tr>\n",
       "    <tr>\n",
       "      <th>NDCG@20</th>\n",
       "      <td>0.462628</td>\n",
       "    </tr>\n",
       "    <tr>\n",
       "      <th>AUC</th>\n",
       "      <td>0.704878</td>\n",
       "    </tr>\n",
       "    <tr>\n",
       "      <th>Precision@20</th>\n",
       "      <td>0.057519</td>\n",
       "    </tr>\n",
       "  </tbody>\n",
       "</table>\n",
       "</div>"
      ],
      "text/plain": [
       "                 value\n",
       "Recall@20     0.096321\n",
       "NDCG@20       0.462628\n",
       "AUC           0.704878\n",
       "Precision@20  0.057519"
      ]
     },
     "execution_count": 19,
     "metadata": {},
     "output_type": "execute_result"
    }
   ],
   "source": [
    "results"
   ]
  }
 ],
 "metadata": {
  "kernelspec": {
   "display_name": "Python 3 (ipykernel)",
   "language": "python",
   "name": "python3"
  },
  "language_info": {
   "codemirror_mode": {
    "name": "ipython",
    "version": 3
   },
   "file_extension": ".py",
   "mimetype": "text/x-python",
   "name": "python",
   "nbconvert_exporter": "python",
   "pygments_lexer": "ipython3",
   "version": "3.8.5"
  }
 },
 "nbformat": 4,
 "nbformat_minor": 4
}
