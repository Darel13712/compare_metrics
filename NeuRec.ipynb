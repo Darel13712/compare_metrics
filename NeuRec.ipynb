{
 "cells": [
  {
   "cell_type": "code",
   "execution_count": 1,
   "metadata": {},
   "outputs": [],
   "source": [
    "# VERSION 2.0\n",
    "# https://github.com/wubinzzu/NeuRec/blob/master/evaluator/backend/python/metric.py\n",
    "\"\"\"\n",
    "@author: Zhongchuan Sun\n",
    "\"\"\"\n",
    "import numpy as np\n",
    "import sys\n",
    "\n",
    "\n",
    "def hit(rank, ground_truth):\n",
    "    # HR is equal to Recall when dataset is loo split.\n",
    "    last_idx = sys.maxsize\n",
    "    for idx, item in enumerate(rank):\n",
    "        if item == ground_truth:\n",
    "            last_idx = idx\n",
    "            break\n",
    "    result = np.zeros(len(rank), dtype=np.float32)\n",
    "    result[last_idx:] = 1.0\n",
    "    return result\n",
    "\n",
    "\n",
    "def precision(rank, ground_truth):\n",
    "    # Precision is meaningless when dataset is loo split.\n",
    "    hits = [1 if item in ground_truth else 0 for item in rank]\n",
    "    result = np.cumsum(hits, dtype=np.float32)/np.arange(1, len(rank)+1)\n",
    "    return result\n",
    "\n",
    "\n",
    "def recall(rank, ground_truth):\n",
    "    # Recall is equal to HR when dataset is loo split.\n",
    "    hits = [1 if item in ground_truth else 0 for item in rank]\n",
    "    result = np.cumsum(hits, dtype=np.float32) / len(ground_truth)\n",
    "    return result\n",
    "\n",
    "\n",
    "def map(rank, ground_truth):\n",
    "    pre = precision(rank, ground_truth)\n",
    "    pre = [pre[idx] if item in ground_truth else 0 for idx, item in enumerate(rank)]\n",
    "    sum_pre = np.cumsum(pre, dtype=np.float32)\n",
    "    # relevant_num = np.cumsum([1 if item in ground_truth else 0 for item in rank])\n",
    "    relevant_num = np.cumsum([min(idx+1, len(ground_truth)) for idx, _ in enumerate(rank)])\n",
    "    result = [p/r_num if r_num!=0 else 0 for p, r_num in zip(sum_pre, relevant_num)]\n",
    "    return result\n",
    "\n",
    "\n",
    "def ndcg(rank, ground_truth):\n",
    "    len_rank = len(rank)\n",
    "    idcg_len = min(len(ground_truth), len_rank)\n",
    "    idcg = np.cumsum(1.0 / np.log2(np.arange(2, len_rank + 2)))\n",
    "    idcg[idcg_len:] = idcg[idcg_len - 1]\n",
    "\n",
    "    dcg = np.cumsum([1.0/np.log2(idx+2) if item in ground_truth else 0.0 for idx, item in enumerate(rank)])\n",
    "    result = dcg/idcg\n",
    "    return result\n",
    "\n",
    "\n",
    "def mrr(rank, ground_truth):\n",
    "    # MRR is equal to MAP when dataset is loo split.\n",
    "    last_idx = sys.maxsize\n",
    "    for idx, item in enumerate(rank):\n",
    "        if item in ground_truth:\n",
    "            last_idx = idx\n",
    "            break\n",
    "    result = np.zeros(len(rank), dtype=np.float32)\n",
    "    result[last_idx:] = 1.0/(last_idx+1)\n",
    "    return result\n",
    "\n",
    "\n",
    "metric_dict = {\"Precision\": precision,\n",
    "               \"Recall\": recall,\n",
    "               \"MAP\": map,\n",
    "               \"NDCG\": ndcg,\n",
    "               \"MRR\": mrr}"
   ]
  },
  {
   "cell_type": "code",
   "execution_count": null,
   "metadata": {},
   "outputs": [],
   "source": []
  },
  {
   "cell_type": "code",
   "execution_count": 2,
   "metadata": {},
   "outputs": [
    {
     "data": {
      "text/plain": [
       "0.0    51516\n",
       "1.0     3144\n",
       "Name: relevance, dtype: int64"
      ]
     },
     "execution_count": 2,
     "metadata": {},
     "output_type": "execute_result"
    }
   ],
   "source": [
    "import pandas as pd\n",
    "import numpy as np\n",
    "\n",
    "df_pred = pd.read_csv('./pred.csv')\n",
    "df_test = pd.read_csv('./test.csv')\n",
    "\n",
    "df_pred_new = pd.merge(\n",
    "    df_pred, \n",
    "    df_test.loc[:, ['user_id', 'item_id', 'relevance']], on=['user_id', 'item_id'], how='left'\n",
    ")\n",
    "\n",
    "df_pred_new = df_pred_new[df_pred_new.user_id.isin(df_test.user_id)]\n",
    "\n",
    "df_pred_new.fillna(0, inplace=True)\n",
    "\n",
    "df_pred_new.loc[df_pred_new.relevance != 0, 'relevance'] = 1\n",
    "\n",
    "df_pred_new.relevance.value_counts()"
   ]
  },
  {
   "cell_type": "code",
   "execution_count": null,
   "metadata": {},
   "outputs": [],
   "source": []
  },
  {
   "cell_type": "code",
   "execution_count": 3,
   "metadata": {},
   "outputs": [
    {
     "data": {
      "text/plain": [
       "0.057519209659714604"
      ]
     },
     "execution_count": 3,
     "metadata": {},
     "output_type": "execute_result"
    }
   ],
   "source": [
    "np.mean(\n",
    "    [\n",
    "        precision(\n",
    "            rank=df_pred_new[df_pred_new.user_id == user].item_id.values, \n",
    "            ground_truth=df_test[df_test.user_id == user].item_id.values\n",
    "        )[19]\n",
    "        for user in df_pred_new.user_id.unique()\n",
    "    ]\n",
    ")"
   ]
  },
  {
   "cell_type": "code",
   "execution_count": 4,
   "metadata": {},
   "outputs": [
    {
     "data": {
      "text/plain": [
       "0.096321315"
      ]
     },
     "execution_count": 4,
     "metadata": {},
     "output_type": "execute_result"
    }
   ],
   "source": [
    "np.mean(\n",
    "    [\n",
    "        recall(\n",
    "            rank=df_pred_new[df_pred_new.user_id == user].item_id.values, \n",
    "            ground_truth=df_test[df_test.user_id == user].item_id.values\n",
    "        )[19]\n",
    "        for user in df_pred_new.user_id.unique()\n",
    "    ]\n",
    ")"
   ]
  },
  {
   "cell_type": "code",
   "execution_count": 5,
   "metadata": {
    "scrolled": true
   },
   "outputs": [
    {
     "ename": "ValueError",
     "evalue": "The truth value of an array with more than one element is ambiguous. Use a.any() or a.all()",
     "output_type": "error",
     "traceback": [
      "\u001b[0;31m---------------------------------------------------------------------------\u001b[0m",
      "\u001b[0;31mValueError\u001b[0m                                Traceback (most recent call last)",
      "\u001b[0;32m<ipython-input-5-eb7eb1744bf3>\u001b[0m in \u001b[0;36m<module>\u001b[0;34m\u001b[0m\n\u001b[1;32m      5\u001b[0m             \u001b[0mground_truth\u001b[0m\u001b[0;34m=\u001b[0m\u001b[0mdf_test\u001b[0m\u001b[0;34m[\u001b[0m\u001b[0mdf_test\u001b[0m\u001b[0;34m.\u001b[0m\u001b[0muser_id\u001b[0m \u001b[0;34m==\u001b[0m \u001b[0muser\u001b[0m\u001b[0;34m]\u001b[0m\u001b[0;34m.\u001b[0m\u001b[0mitem_id\u001b[0m\u001b[0;34m.\u001b[0m\u001b[0mvalues\u001b[0m\u001b[0;34m\u001b[0m\u001b[0;34m\u001b[0m\u001b[0m\n\u001b[1;32m      6\u001b[0m         )[19]\n\u001b[0;32m----> 7\u001b[0;31m         \u001b[0;32mfor\u001b[0m \u001b[0muser\u001b[0m \u001b[0;32min\u001b[0m \u001b[0mdf_pred_new\u001b[0m\u001b[0;34m.\u001b[0m\u001b[0muser_id\u001b[0m\u001b[0;34m.\u001b[0m\u001b[0munique\u001b[0m\u001b[0;34m(\u001b[0m\u001b[0;34m)\u001b[0m\u001b[0;34m\u001b[0m\u001b[0;34m\u001b[0m\u001b[0m\n\u001b[0m\u001b[1;32m      8\u001b[0m     ]\n\u001b[1;32m      9\u001b[0m )\n",
      "\u001b[0;32m<ipython-input-5-eb7eb1744bf3>\u001b[0m in \u001b[0;36m<listcomp>\u001b[0;34m(.0)\u001b[0m\n\u001b[1;32m      5\u001b[0m             \u001b[0mground_truth\u001b[0m\u001b[0;34m=\u001b[0m\u001b[0mdf_test\u001b[0m\u001b[0;34m[\u001b[0m\u001b[0mdf_test\u001b[0m\u001b[0;34m.\u001b[0m\u001b[0muser_id\u001b[0m \u001b[0;34m==\u001b[0m \u001b[0muser\u001b[0m\u001b[0;34m]\u001b[0m\u001b[0;34m.\u001b[0m\u001b[0mitem_id\u001b[0m\u001b[0;34m.\u001b[0m\u001b[0mvalues\u001b[0m\u001b[0;34m\u001b[0m\u001b[0;34m\u001b[0m\u001b[0m\n\u001b[1;32m      6\u001b[0m         )[19]\n\u001b[0;32m----> 7\u001b[0;31m         \u001b[0;32mfor\u001b[0m \u001b[0muser\u001b[0m \u001b[0;32min\u001b[0m \u001b[0mdf_pred_new\u001b[0m\u001b[0;34m.\u001b[0m\u001b[0muser_id\u001b[0m\u001b[0;34m.\u001b[0m\u001b[0munique\u001b[0m\u001b[0;34m(\u001b[0m\u001b[0;34m)\u001b[0m\u001b[0;34m\u001b[0m\u001b[0;34m\u001b[0m\u001b[0m\n\u001b[0m\u001b[1;32m      8\u001b[0m     ]\n\u001b[1;32m      9\u001b[0m )\n",
      "\u001b[0;32m<ipython-input-1-c5b86f9001be>\u001b[0m in \u001b[0;36mhit\u001b[0;34m(rank, ground_truth)\u001b[0m\n\u001b[1;32m     12\u001b[0m     \u001b[0mlast_idx\u001b[0m \u001b[0;34m=\u001b[0m \u001b[0msys\u001b[0m\u001b[0;34m.\u001b[0m\u001b[0mmaxsize\u001b[0m\u001b[0;34m\u001b[0m\u001b[0;34m\u001b[0m\u001b[0m\n\u001b[1;32m     13\u001b[0m     \u001b[0;32mfor\u001b[0m \u001b[0midx\u001b[0m\u001b[0;34m,\u001b[0m \u001b[0mitem\u001b[0m \u001b[0;32min\u001b[0m \u001b[0menumerate\u001b[0m\u001b[0;34m(\u001b[0m\u001b[0mrank\u001b[0m\u001b[0;34m)\u001b[0m\u001b[0;34m:\u001b[0m\u001b[0;34m\u001b[0m\u001b[0;34m\u001b[0m\u001b[0m\n\u001b[0;32m---> 14\u001b[0;31m         \u001b[0;32mif\u001b[0m \u001b[0mitem\u001b[0m \u001b[0;34m==\u001b[0m \u001b[0mground_truth\u001b[0m\u001b[0;34m:\u001b[0m\u001b[0;34m\u001b[0m\u001b[0;34m\u001b[0m\u001b[0m\n\u001b[0m\u001b[1;32m     15\u001b[0m             \u001b[0mlast_idx\u001b[0m \u001b[0;34m=\u001b[0m \u001b[0midx\u001b[0m\u001b[0;34m\u001b[0m\u001b[0;34m\u001b[0m\u001b[0m\n\u001b[1;32m     16\u001b[0m             \u001b[0;32mbreak\u001b[0m\u001b[0;34m\u001b[0m\u001b[0;34m\u001b[0m\u001b[0m\n",
      "\u001b[0;31mValueError\u001b[0m: The truth value of an array with more than one element is ambiguous. Use a.any() or a.all()"
     ]
    }
   ],
   "source": [
    "np.mean(\n",
    "    [\n",
    "        hit(\n",
    "            rank=df_pred_new[df_pred_new.user_id == user].item_id.values, \n",
    "            ground_truth=df_test[df_test.user_id == user].item_id.values\n",
    "        )[19]\n",
    "        for user in df_pred_new.user_id.unique()\n",
    "    ]\n",
    ")"
   ]
  },
  {
   "cell_type": "markdown",
   "metadata": {},
   "source": [
    "### Let's fix it: \"==\" replaced with \"in\""
   ]
  },
  {
   "cell_type": "code",
   "execution_count": 6,
   "metadata": {},
   "outputs": [],
   "source": [
    "def hit(rank, ground_truth):\n",
    "    # HR is equal to Recall when dataset is loo split.\n",
    "    last_idx = sys.maxsize\n",
    "    for idx, item in enumerate(rank):\n",
    "        if item in ground_truth:\n",
    "            last_idx = idx\n",
    "            break\n",
    "    result = np.zeros(len(rank), dtype=np.float32)\n",
    "    result[last_idx:] = 1.0\n",
    "    return result"
   ]
  },
  {
   "cell_type": "code",
   "execution_count": 7,
   "metadata": {},
   "outputs": [
    {
     "data": {
      "text/plain": [
       "0.47457007"
      ]
     },
     "execution_count": 7,
     "metadata": {},
     "output_type": "execute_result"
    }
   ],
   "source": [
    "np.mean(\n",
    "    [\n",
    "        hit(\n",
    "            rank=df_pred_new[df_pred_new.user_id == user].item_id.values, \n",
    "            ground_truth=df_test[df_test.user_id == user].item_id.values\n",
    "        )[19]\n",
    "        for user in df_pred_new.user_id.unique()\n",
    "    ]\n",
    ")"
   ]
  },
  {
   "cell_type": "code",
   "execution_count": 8,
   "metadata": {},
   "outputs": [
    {
     "data": {
      "text/plain": [
       "0.0028783712115732244"
      ]
     },
     "execution_count": 8,
     "metadata": {},
     "output_type": "execute_result"
    }
   ],
   "source": [
    "np.mean(\n",
    "    [\n",
    "        map(\n",
    "            rank=df_pred_new[df_pred_new.user_id == user].item_id.values, \n",
    "            ground_truth=df_test[df_test.user_id == user].item_id.values\n",
    "        )[19]\n",
    "        for user in df_pred_new.user_id.unique()\n",
    "    ]\n",
    ")"
   ]
  },
  {
   "cell_type": "code",
   "execution_count": 9,
   "metadata": {},
   "outputs": [
    {
     "data": {
      "text/plain": [
       "0.18632413"
      ]
     },
     "execution_count": 9,
     "metadata": {},
     "output_type": "execute_result"
    }
   ],
   "source": [
    "np.mean(\n",
    "    [\n",
    "        mrr(\n",
    "            rank=df_pred_new[df_pred_new.user_id == user].item_id.values, \n",
    "            ground_truth=df_test[df_test.user_id == user].item_id.values\n",
    "        )[19]\n",
    "        for user in df_pred_new.user_id.unique()\n",
    "    ]\n",
    ")"
   ]
  },
  {
   "cell_type": "code",
   "execution_count": 10,
   "metadata": {},
   "outputs": [
    {
     "data": {
      "text/plain": [
       "0.09326437896736814"
      ]
     },
     "execution_count": 10,
     "metadata": {},
     "output_type": "execute_result"
    }
   ],
   "source": [
    "np.mean(\n",
    "    [\n",
    "        ndcg(\n",
    "            rank=df_pred_new[df_pred_new.user_id == user].item_id.values, \n",
    "            ground_truth=df_test[df_test.user_id == user].item_id.values\n",
    "        )[19]\n",
    "        for user in df_pred_new.user_id.unique()\n",
    "    ]\n",
    ")"
   ]
  },
  {
   "cell_type": "code",
   "execution_count": null,
   "metadata": {},
   "outputs": [],
   "source": []
  }
 ],
 "metadata": {
  "kernelspec": {
   "display_name": "dev-rinchin",
   "language": "python",
   "name": "dev-rinchin"
  },
  "language_info": {
   "codemirror_mode": {
    "name": "ipython",
    "version": 3
   },
   "file_extension": ".py",
   "mimetype": "text/x-python",
   "name": "python",
   "nbconvert_exporter": "python",
   "pygments_lexer": "ipython3",
   "version": "3.6.9"
  }
 },
 "nbformat": 4,
 "nbformat_minor": 2
}
