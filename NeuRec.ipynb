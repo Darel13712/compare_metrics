{
 "cells": [
  {
   "cell_type": "code",
   "execution_count": 3,
   "metadata": {},
   "outputs": [],
   "source": [
    "import pandas as pd\n",
    "import numpy as np"
   ]
  },
  {
   "cell_type": "markdown",
   "metadata": {},
   "source": [
    "### Copy from repository (commit f8d3ab7 on 23 Jun 2020)"
   ]
  },
  {
   "cell_type": "code",
   "execution_count": 7,
   "metadata": {},
   "outputs": [],
   "source": [
    "# VERSION 2.0\n",
    "# https://github.com/wubinzzu/NeuRec/blob/master/evaluator/backend/python/metric.py\n",
    "\"\"\"\n",
    "@author: Zhongchuan Sun\n",
    "\"\"\"\n",
    "import numpy as np\n",
    "import sys\n",
    "\n",
    "\n",
    "def hit(rank, ground_truth):\n",
    "    # HR is equal to Recall when dataset is loo split.\n",
    "    last_idx = sys.maxsize\n",
    "    for idx, item in enumerate(rank):\n",
    "        if item == ground_truth:\n",
    "            last_idx = idx\n",
    "            break\n",
    "    result = np.zeros(len(rank), dtype=np.float32)\n",
    "    result[last_idx:] = 1.0\n",
    "    return result\n",
    "\n",
    "\n",
    "def precision(rank, ground_truth):\n",
    "    # Precision is meaningless when dataset is loo split.\n",
    "    hits = [1 if item in ground_truth else 0 for item in rank]\n",
    "    result = np.cumsum(hits, dtype=np.float32)/np.arange(1, len(rank)+1)\n",
    "    return result\n",
    "\n",
    "\n",
    "def recall(rank, ground_truth):\n",
    "    # Recall is equal to HR when dataset is loo split.\n",
    "    hits = [1 if item in ground_truth else 0 for item in rank]\n",
    "    result = np.cumsum(hits, dtype=np.float32) / len(ground_truth)\n",
    "    return result\n",
    "\n",
    "\n",
    "def map(rank, ground_truth):\n",
    "    pre = precision(rank, ground_truth)\n",
    "    pre = [pre[idx] if item in ground_truth else 0 for idx, item in enumerate(rank)]\n",
    "    sum_pre = np.cumsum(pre, dtype=np.float32)\n",
    "    # relevant_num = np.cumsum([1 if item in ground_truth else 0 for item in rank])\n",
    "    relevant_num = np.cumsum([min(idx+1, len(ground_truth)) for idx, _ in enumerate(rank)])\n",
    "    result = [p/r_num if r_num!=0 else 0 for p, r_num in zip(sum_pre, relevant_num)]\n",
    "    return result\n",
    "\n",
    "\n",
    "def ndcg(rank, ground_truth):\n",
    "    len_rank = len(rank)\n",
    "    idcg_len = min(len(ground_truth), len_rank)\n",
    "    idcg = np.cumsum(1.0 / np.log2(np.arange(2, len_rank + 2)))\n",
    "    idcg[idcg_len:] = idcg[idcg_len - 1]\n",
    "\n",
    "    dcg = np.cumsum([1.0/np.log2(idx+2) if item in ground_truth else 0.0 for idx, item in enumerate(rank)])\n",
    "    result = dcg/idcg\n",
    "    return result\n",
    "\n",
    "\n",
    "def mrr(rank, ground_truth):\n",
    "    # MRR is equal to MAP when dataset is loo split.\n",
    "    last_idx = sys.maxsize\n",
    "    for idx, item in enumerate(rank):\n",
    "        if item in ground_truth:\n",
    "            last_idx = idx\n",
    "            break\n",
    "    result = np.zeros(len(rank), dtype=np.float32)\n",
    "    result[last_idx:] = 1.0/(last_idx+1)\n",
    "    return result\n",
    "\n",
    "\n",
    "metric_dict = {\"Precision\": precision,\n",
    "               \"Recall\": recall,\n",
    "               \"MAP\": map,\n",
    "               \"NDCG\": ndcg,\n",
    "               \"MRR\": mrr}"
   ]
  },
  {
   "cell_type": "markdown",
   "metadata": {},
   "source": [
    "### Data preparation"
   ]
  },
  {
   "cell_type": "code",
   "execution_count": 4,
   "metadata": {},
   "outputs": [
    {
     "data": {
      "text/plain": [
       "0.0    21307932\n",
       "4.5       25887\n",
       "5.0       12924\n",
       "Name: relevance, dtype: int64"
      ]
     },
     "execution_count": 4,
     "metadata": {},
     "output_type": "execute_result"
    }
   ],
   "source": [
    "df_pred = pd.read_csv('./preds_full.csv')\n",
    "df_test = pd.read_csv('./test.csv')\n",
    "\n",
    "df_pred_new = pd.merge(\n",
    "    df_pred, \n",
    "    df_test.loc[:, ['user_id', 'item_id', 'relevance']], on=['user_id', 'item_id'], how='left'\n",
    ")\n",
    "\n",
    "df_pred_new = df_pred_new[df_pred_new.user_id.isin(df_test.user_id)]\n",
    "\n",
    "df_pred_new.fillna(0, inplace=True)\n",
    "\n",
    "df_pred_new.relevance.value_counts()"
   ]
  },
  {
   "cell_type": "markdown",
   "metadata": {},
   "source": [
    "### Evaluation metrics"
   ]
  },
  {
   "cell_type": "code",
   "execution_count": 5,
   "metadata": {},
   "outputs": [],
   "source": [
    "results = pd.DataFrame()"
   ]
  },
  {
   "cell_type": "code",
   "execution_count": 8,
   "metadata": {},
   "outputs": [],
   "source": [
    "results.at[\"Precision@20\",\"value\"] = np.mean(\n",
    "    [\n",
    "        precision(\n",
    "            rank=df_pred_new[df_pred_new.user_id == user].item_id.values, \n",
    "            ground_truth=df_test[df_test.user_id == user].item_id.values\n",
    "        )[19]\n",
    "        for user in df_pred_new.user_id.unique()\n",
    "    ]\n",
    ")"
   ]
  },
  {
   "cell_type": "code",
   "execution_count": 14,
   "metadata": {},
   "outputs": [],
   "source": [
    "results.at[\"Recall@20\",\"value\"] = np.mean(\n",
    "    [\n",
    "        recall(\n",
    "            rank=df_pred_new[df_pred_new.user_id == user].item_id.values, \n",
    "            ground_truth=df_test[df_test.user_id == user].item_id.values\n",
    "        )[19]\n",
    "        for user in df_pred_new.user_id.unique()\n",
    "    ]\n",
    ")"
   ]
  },
  {
   "cell_type": "code",
   "execution_count": 15,
   "metadata": {
    "scrolled": true
   },
   "outputs": [
    {
     "ename": "ValueError",
     "evalue": "The truth value of an array with more than one element is ambiguous. Use a.any() or a.all()",
     "output_type": "error",
     "traceback": [
      "\u001b[0;31m---------------------------------------------------------------------------\u001b[0m",
      "\u001b[0;31mValueError\u001b[0m                                Traceback (most recent call last)",
      "\u001b[0;32m/var/folders/bv/_5c90ccs3mdd8j92gg9rnhq00000gn/T/ipykernel_81749/2164716373.py\u001b[0m in \u001b[0;36m<module>\u001b[0;34m\u001b[0m\n\u001b[1;32m      1\u001b[0m results.at[\"HitRate@20\",\"value\"] = np.mean(\n\u001b[0;32m----> 2\u001b[0;31m     [\n\u001b[0m\u001b[1;32m      3\u001b[0m         hit(\n\u001b[1;32m      4\u001b[0m             \u001b[0mrank\u001b[0m\u001b[0;34m=\u001b[0m\u001b[0mdf_pred_new\u001b[0m\u001b[0;34m[\u001b[0m\u001b[0mdf_pred_new\u001b[0m\u001b[0;34m.\u001b[0m\u001b[0muser_id\u001b[0m \u001b[0;34m==\u001b[0m \u001b[0muser\u001b[0m\u001b[0;34m]\u001b[0m\u001b[0;34m.\u001b[0m\u001b[0mitem_id\u001b[0m\u001b[0;34m.\u001b[0m\u001b[0mvalues\u001b[0m\u001b[0;34m,\u001b[0m\u001b[0;34m\u001b[0m\u001b[0;34m\u001b[0m\u001b[0m\n\u001b[1;32m      5\u001b[0m             \u001b[0mground_truth\u001b[0m\u001b[0;34m=\u001b[0m\u001b[0mdf_test\u001b[0m\u001b[0;34m[\u001b[0m\u001b[0mdf_test\u001b[0m\u001b[0;34m.\u001b[0m\u001b[0muser_id\u001b[0m \u001b[0;34m==\u001b[0m \u001b[0muser\u001b[0m\u001b[0;34m]\u001b[0m\u001b[0;34m.\u001b[0m\u001b[0mitem_id\u001b[0m\u001b[0;34m.\u001b[0m\u001b[0mvalues\u001b[0m\u001b[0;34m\u001b[0m\u001b[0;34m\u001b[0m\u001b[0m\n",
      "\u001b[0;32m/var/folders/bv/_5c90ccs3mdd8j92gg9rnhq00000gn/T/ipykernel_81749/2164716373.py\u001b[0m in \u001b[0;36m<listcomp>\u001b[0;34m(.0)\u001b[0m\n\u001b[1;32m      1\u001b[0m results.at[\"HitRate@20\",\"value\"] = np.mean(\n\u001b[1;32m      2\u001b[0m     [\n\u001b[0;32m----> 3\u001b[0;31m         hit(\n\u001b[0m\u001b[1;32m      4\u001b[0m             \u001b[0mrank\u001b[0m\u001b[0;34m=\u001b[0m\u001b[0mdf_pred_new\u001b[0m\u001b[0;34m[\u001b[0m\u001b[0mdf_pred_new\u001b[0m\u001b[0;34m.\u001b[0m\u001b[0muser_id\u001b[0m \u001b[0;34m==\u001b[0m \u001b[0muser\u001b[0m\u001b[0;34m]\u001b[0m\u001b[0;34m.\u001b[0m\u001b[0mitem_id\u001b[0m\u001b[0;34m.\u001b[0m\u001b[0mvalues\u001b[0m\u001b[0;34m,\u001b[0m\u001b[0;34m\u001b[0m\u001b[0;34m\u001b[0m\u001b[0m\n\u001b[1;32m      5\u001b[0m             \u001b[0mground_truth\u001b[0m\u001b[0;34m=\u001b[0m\u001b[0mdf_test\u001b[0m\u001b[0;34m[\u001b[0m\u001b[0mdf_test\u001b[0m\u001b[0;34m.\u001b[0m\u001b[0muser_id\u001b[0m \u001b[0;34m==\u001b[0m \u001b[0muser\u001b[0m\u001b[0;34m]\u001b[0m\u001b[0;34m.\u001b[0m\u001b[0mitem_id\u001b[0m\u001b[0;34m.\u001b[0m\u001b[0mvalues\u001b[0m\u001b[0;34m\u001b[0m\u001b[0;34m\u001b[0m\u001b[0m\n",
      "\u001b[0;32m/var/folders/bv/_5c90ccs3mdd8j92gg9rnhq00000gn/T/ipykernel_81749/4187994347.py\u001b[0m in \u001b[0;36mhit\u001b[0;34m(rank, ground_truth)\u001b[0m\n\u001b[1;32m     12\u001b[0m     \u001b[0mlast_idx\u001b[0m \u001b[0;34m=\u001b[0m \u001b[0msys\u001b[0m\u001b[0;34m.\u001b[0m\u001b[0mmaxsize\u001b[0m\u001b[0;34m\u001b[0m\u001b[0;34m\u001b[0m\u001b[0m\n\u001b[1;32m     13\u001b[0m     \u001b[0;32mfor\u001b[0m \u001b[0midx\u001b[0m\u001b[0;34m,\u001b[0m \u001b[0mitem\u001b[0m \u001b[0;32min\u001b[0m \u001b[0menumerate\u001b[0m\u001b[0;34m(\u001b[0m\u001b[0mrank\u001b[0m\u001b[0;34m)\u001b[0m\u001b[0;34m:\u001b[0m\u001b[0;34m\u001b[0m\u001b[0;34m\u001b[0m\u001b[0m\n\u001b[0;32m---> 14\u001b[0;31m         \u001b[0;32mif\u001b[0m \u001b[0mitem\u001b[0m \u001b[0;34m==\u001b[0m \u001b[0mground_truth\u001b[0m\u001b[0;34m:\u001b[0m\u001b[0;34m\u001b[0m\u001b[0;34m\u001b[0m\u001b[0m\n\u001b[0m\u001b[1;32m     15\u001b[0m             \u001b[0mlast_idx\u001b[0m \u001b[0;34m=\u001b[0m \u001b[0midx\u001b[0m\u001b[0;34m\u001b[0m\u001b[0;34m\u001b[0m\u001b[0m\n\u001b[1;32m     16\u001b[0m             \u001b[0;32mbreak\u001b[0m\u001b[0;34m\u001b[0m\u001b[0;34m\u001b[0m\u001b[0m\n",
      "\u001b[0;31mValueError\u001b[0m: The truth value of an array with more than one element is ambiguous. Use a.any() or a.all()"
     ]
    }
   ],
   "source": [
    "results.at[\"HitRate@20\",\"value\"] = np.mean(\n",
    "    [\n",
    "        hit(\n",
    "            rank=df_pred_new[df_pred_new.user_id == user].item_id.values, \n",
    "            ground_truth=df_test[df_test.user_id == user].item_id.values\n",
    "        )[19]\n",
    "        for user in df_pred_new.user_id.unique()\n",
    "    ]\n",
    ")"
   ]
  },
  {
   "cell_type": "markdown",
   "metadata": {},
   "source": [
    "#### Let's fix it by replacing \"==\" with \"in\""
   ]
  },
  {
   "cell_type": "code",
   "execution_count": 16,
   "metadata": {},
   "outputs": [],
   "source": [
    "def hit(rank, ground_truth):\n",
    "    # HR is equal to Recall when dataset is loo split.\n",
    "    last_idx = sys.maxsize\n",
    "    for idx, item in enumerate(rank):\n",
    "        if item in ground_truth:\n",
    "            last_idx = idx\n",
    "            break\n",
    "    result = np.zeros(len(rank), dtype=np.float32)\n",
    "    result[last_idx:] = 1.0\n",
    "    return result"
   ]
  },
  {
   "cell_type": "code",
   "execution_count": 17,
   "metadata": {},
   "outputs": [],
   "source": [
    "results.at[\"HitRate@20\",\"value\"] = np.mean(\n",
    "    [\n",
    "        hit(\n",
    "            rank=df_pred_new[df_pred_new.user_id == user].item_id.values, \n",
    "            ground_truth=df_test[df_test.user_id == user].item_id.values\n",
    "        )[19]\n",
    "        for user in df_pred_new.user_id.unique()\n",
    "    ]\n",
    ")"
   ]
  },
  {
   "cell_type": "code",
   "execution_count": 18,
   "metadata": {},
   "outputs": [],
   "source": [
    "results.at[\"MAP@20\",\"value\"] = np.mean(\n",
    "    [\n",
    "        map(\n",
    "            rank=df_pred_new[df_pred_new.user_id == user].item_id.values, \n",
    "            ground_truth=df_test[df_test.user_id == user].item_id.values\n",
    "        )[19]\n",
    "        for user in df_pred_new.user_id.unique()\n",
    "    ]\n",
    ")"
   ]
  },
  {
   "cell_type": "code",
   "execution_count": 19,
   "metadata": {},
   "outputs": [],
   "source": [
    "results.at[\"MRR@20\",\"value\"] = np.mean(\n",
    "    [\n",
    "        mrr(\n",
    "            rank=df_pred_new[df_pred_new.user_id == user].item_id.values, \n",
    "            ground_truth=df_test[df_test.user_id == user].item_id.values\n",
    "        )[19]\n",
    "        for user in df_pred_new.user_id.unique()\n",
    "    ]\n",
    ")"
   ]
  },
  {
   "cell_type": "code",
   "execution_count": 20,
   "metadata": {},
   "outputs": [],
   "source": [
    "results.at[\"NDCG@20\",\"value\"] = np.mean(\n",
    "    [\n",
    "        ndcg(\n",
    "            rank=df_pred_new[df_pred_new.user_id == user].item_id.values, \n",
    "            ground_truth=df_test[df_test.user_id == user].item_id.values\n",
    "        )[19]\n",
    "        for user in df_pred_new.user_id.unique()\n",
    "    ]\n",
    ")"
   ]
  },
  {
   "cell_type": "markdown",
   "metadata": {},
   "source": [
    "### Results"
   ]
  },
  {
   "cell_type": "code",
   "execution_count": 21,
   "metadata": {},
   "outputs": [
    {
     "data": {
      "text/html": [
       "<div>\n",
       "<style scoped>\n",
       "    .dataframe tbody tr th:only-of-type {\n",
       "        vertical-align: middle;\n",
       "    }\n",
       "\n",
       "    .dataframe tbody tr th {\n",
       "        vertical-align: top;\n",
       "    }\n",
       "\n",
       "    .dataframe thead th {\n",
       "        text-align: right;\n",
       "    }\n",
       "</style>\n",
       "<table border=\"1\" class=\"dataframe\">\n",
       "  <thead>\n",
       "    <tr style=\"text-align: right;\">\n",
       "      <th></th>\n",
       "      <th>value</th>\n",
       "    </tr>\n",
       "  </thead>\n",
       "  <tbody>\n",
       "    <tr>\n",
       "      <th>Precision@20</th>\n",
       "      <td>0.057519</td>\n",
       "    </tr>\n",
       "    <tr>\n",
       "      <th>Recall@20</th>\n",
       "      <td>0.096321</td>\n",
       "    </tr>\n",
       "    <tr>\n",
       "      <th>HitRate@20</th>\n",
       "      <td>0.474570</td>\n",
       "    </tr>\n",
       "    <tr>\n",
       "      <th>MAP@20</th>\n",
       "      <td>0.002878</td>\n",
       "    </tr>\n",
       "    <tr>\n",
       "      <th>MRR@20</th>\n",
       "      <td>0.186324</td>\n",
       "    </tr>\n",
       "    <tr>\n",
       "      <th>NDCG@20</th>\n",
       "      <td>0.093264</td>\n",
       "    </tr>\n",
       "  </tbody>\n",
       "</table>\n",
       "</div>"
      ],
      "text/plain": [
       "                 value\n",
       "Precision@20  0.057519\n",
       "Recall@20     0.096321\n",
       "HitRate@20    0.474570\n",
       "MAP@20        0.002878\n",
       "MRR@20        0.186324\n",
       "NDCG@20       0.093264"
      ]
     },
     "execution_count": 21,
     "metadata": {},
     "output_type": "execute_result"
    }
   ],
   "source": [
    "results"
   ]
  }
 ],
 "metadata": {
  "kernelspec": {
   "display_name": "Python 3 (ipykernel)",
   "language": "python",
   "name": "python3"
  },
  "language_info": {
   "codemirror_mode": {
    "name": "ipython",
    "version": 3
   },
   "file_extension": ".py",
   "mimetype": "text/x-python",
   "name": "python",
   "nbconvert_exporter": "python",
   "pygments_lexer": "ipython3",
   "version": "3.8.5"
  }
 },
 "nbformat": 4,
 "nbformat_minor": 4
}
